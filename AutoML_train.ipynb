{
 "cells": [
  {
   "cell_type": "code",
   "execution_count": 1,
   "metadata": {},
   "outputs": [],
   "source": [
    "import pandas as pd\n",
    "import numpy as np\n",
    "import sklearn\n",
    "from tpot import TPOTRegressor\n",
    "from sklearn.model_selection import train_test_split\n",
    "from sklearn.metrics import mean_squared_error\n",
    "import os\n",
    "from sklearn.ensemble import ExtraTreesRegressor\n",
    "import joblib"
   ]
  },
  {
   "cell_type": "code",
   "execution_count": 2,
   "metadata": {},
   "outputs": [],
   "source": [
    "df = pd.read_csv('data/DJIA_20140831_20250220.csv')\n",
    "\n",
    "df[\"TradingDate\"] = pd.to_datetime(df[\"TradingDate\"])\n",
    "df.sort_values(by=\"TradingDate\",inplace=True)"
   ]
  },
  {
   "cell_type": "code",
   "execution_count": 3,
   "metadata": {},
   "outputs": [],
   "source": [
    "components = ['HON', 'PFE', 'NKE', 'CVX', 'GS', 'JNJ', 'AAPL', 'HD', 'MSFT', 'VZ', 'CSCO', 'AXP', 'AMGN', 'MRK', 'JPM', 'WMT', 'CRM', 'NVDA', 'V', 'CAT', 'DIS', 'MMM', 'SHW',\n",
    "'BA', 'PG', 'KO','UNH', 'MCD', 'TRV', 'WBA', 'AMZN', 'IBM', 'INTC', 'DOW']"
   ]
  },
  {
   "cell_type": "code",
   "execution_count": 3,
   "metadata": {},
   "outputs": [],
   "source": [
    "df = df.rename(columns={'ClosePrice': 'close', 'OpenPrice': 'open', 'HighPrice': 'high', 'LowPrice': 'low', 'Amount': 'volume'})"
   ]
  },
  {
   "cell_type": "code",
   "execution_count": 4,
   "metadata": {},
   "outputs": [],
   "source": [
    "def get_stock_data(df, symbol, end, start=\"2014-08-31\"):\n",
    "    data = df[(df[\"Symbol\"] == symbol)& (df[\"TradingDate\"] >= start) & (df[\"TradingDate\"] <= end)]\n",
    "    return data\n",
    "\n",
    "def add_technical_indicators(df_):\n",
    "\n",
    "    df = df_.copy()\n",
    "    # Log Returns (using close price)\n",
    "    df.loc[:, 'Log_Return'] = np.log(df['close'] / df['close'].shift(1))\n",
    "    \n",
    "    # High-Low Range\n",
    "    df.loc[:, 'High_Low_Range'] = df['high'] - df['low']\n",
    "    \n",
    "    # Close-to-Open Return\n",
    "    df.loc[:, 'Close_to_Open_Return'] = (df['close'] - df['open']) / df['open']\n",
    "    \n",
    "    # Close-to-High and Close-to-Low ratios\n",
    "    df.loc[:, 'Close_to_High'] = (df['close'] - df['low']) / (df['high'] - df['low'])\n",
    "    df.loc[:, 'Close_to_Low'] = (df['high'] - df['close']) / (df['high'] - df['low'])\n",
    "    \n",
    "    # Volume Change\n",
    "    df.loc[:, 'Volume_Change'] = (df['volume'] - df['volume'].shift(1)) / df['volume'].shift(1)\n",
    "    \n",
    "    \n",
    "    # Daily Volatility (Rolling Standard Deviation of Log Return over 14 days)\n",
    "    df.loc[:, 'Volatility'] = df['Log_Return'].rolling(window=14).std()\n",
    "    \n",
    "    # Rate of Change (ROC) over 14 days\n",
    "    df.loc[:, 'ROC'] = (df['close'] - df['close'].shift(14)) / df['close'].shift(14)\n",
    "    \n",
    "    # Rolling Mean of Close Price over 14 days\n",
    "    df.loc[:, 'Rolling_Mean'] = df['close'].rolling(window=14).mean()\n",
    "    \n",
    "    # Rolling Std Dev of Close Price over 14 days\n",
    "    df.loc[:, 'Rolling_Std_Dev'] = df['close'].rolling(window=14).std()\n",
    "\n",
    "    # ROCP (Rate of Change Percentage)\n",
    "\n",
    "    df.loc[:, 'ROCP_close'] = (df['close'] - df['close'].shift(1)) / df['close'].shift(1)\n",
    "    df.loc[:, 'ROCP_open'] = (df['open'] - df['open'].shift(1)) / df['open'].shift(1)\n",
    "    df.loc[:, 'ROCP_high'] = (df['high'] - df['high'].shift(1)) / df['high'].shift(1)\n",
    "    df.loc[:, 'ROCP_low'] = (df['low'] - df['low'].shift(1)) / df['low'].shift(1)\n",
    "\n",
    "    # Moving Average (MA)\n",
    "    df.loc[:, 'MA'] = df['close'].rolling(window=14).mean()  # Example for 14-period moving average\n",
    "\n",
    "    # MACP (Moving Average Change Percentage)\n",
    "    df.loc[:, 'MACP'] = df['MA'] - df['close']\n",
    "\n",
    "    # MACD (Moving Average Convergence/Divergence)\n",
    "    Nfast = 12  # Default fast EMA period\n",
    "    Nslow = 26  # Default slow EMA period\n",
    "    df.loc[:, 'EMA_fast'] = df['close'].ewm(span=Nfast, adjust=False).mean()\n",
    "    df.loc[:, 'EMA_slow'] = df['close'].ewm(span=Nslow, adjust=False).mean()\n",
    "    df.loc[:, 'DIF'] = df['EMA_fast'] - df['EMA_slow']\n",
    "    df.loc[:, 'DEA'] = df['DIF'].ewm(span=9, adjust=False).mean()  # Default smoothing constant\n",
    "    df.loc[:, 'MACD'] = 2 * (df['DIF'] - df['DEA'])\n",
    "\n",
    "    # RSI (Relative Strength Index)\n",
    "    delta = df['close'].diff()\n",
    "    gain = (delta.where(delta > 0, 0)).rolling(window=14).mean()\n",
    "    loss = (-delta.where(delta < 0, 0)).rolling(window=14).mean()\n",
    "    RS = gain / loss\n",
    "    df.loc[:, 'RSI'] = 100 - (100 / (1 + RS))\n",
    "\n",
    "    # VROCP (Volume Rate of Change Percentage)\n",
    "    df.loc[:, 'VROCP'] = (df['volume'] - df['volume'].shift(1)) / df['volume'].shift(1)\n",
    "\n",
    "    # VROC (Volume Rate of Change)\n",
    "    df.loc[:, 'VROC'] = (df['volume'] - df['volume'].shift(1))\n",
    "\n",
    "    # Bollinger Bands\n",
    "    df.loc[:, 'BOLL_Middle'] = df['close'].rolling(window=14).mean()  # Middle Band = MA\n",
    "    df.loc[:, 'BOLL_STD'] = df['close'].rolling(window=14).std()  # Standard deviation\n",
    "    df.loc[:, 'BOLL_upper'] = df['BOLL_Middle'] + (2 * df['BOLL_STD'])  # Upper Band\n",
    "    df.loc[:, 'BOLL_lower'] = df['BOLL_Middle'] - (2 * df['BOLL_STD'])  # Lower Band\n",
    "\n",
    "     # Price-to-Volume Correlation (Rolling 14 days)\n",
    "    df.loc[:, 'Price_Volume_Correlation'] = df['close'].rolling(window=14).corr(df['volume'])\n",
    "\n",
    "    df = df.dropna()\n",
    "    return df\n",
    "\n"
   ]
  },
  {
   "cell_type": "code",
   "execution_count": 5,
   "metadata": {},
   "outputs": [],
   "source": [
    "def construct_training_data(df, h=6):\n",
    "    \n",
    "    # Shift the close price by 'h' days to get the target\n",
    "    df['target'] = df['close'].shift(-h)  # Target is the close price 'h' days later\n",
    "\n",
    "    # Drop rows with NaN values in the target column or technical indicators\n",
    "    df = df.dropna()\n",
    "\n",
    "    y = df['target']  # Target: Close price 'h' days later\n",
    "    X = df.drop(columns=['target', 'Symbol'])  # Features\n",
    "    return X, y\n",
    "\n",
    "def construct_test_data(df, h=6):\n",
    "    \n",
    "    # Shift the close price by 'h' days to get the target\n",
    "    df['target'] = df['close'].shift(-h)  # Target is the close price 'h' days later\n",
    "\n",
    "    # Drop rows with NaN values in the target column or technical indicators\n",
    "    df = df.dropna()\n",
    "\n",
    "    y = df['target', 'TradingDate']  # Target: Close price 'h' days later\n",
    "    X = df.drop(columns=['target', 'Symbol'])  # Features\n",
    "    return X, y"
   ]
  },
  {
   "cell_type": "code",
   "execution_count": 7,
   "metadata": {},
   "outputs": [
    {
     "name": "stdout",
     "output_type": "stream",
     "text": [
      "Processing HON\n",
      "(1117, 39) (1117,)\n"
     ]
    },
    {
     "name": "stderr",
     "output_type": "stream",
     "text": [
      "Version 0.12.2 of tpot is outdated. Version 1.0.0 was released 3 days ago.\n"
     ]
    },
    {
     "data": {
      "application/vnd.jupyter.widget-view+json": {
       "model_id": "6c2e899247214ad29fed97ebba702cc0",
       "version_major": 2,
       "version_minor": 0
      },
      "text/plain": [
       "Optimization Progress:   0%|          | 0/640 [00:00<?, ?pipeline/s]"
      ]
     },
     "metadata": {},
     "output_type": "display_data"
    },
    {
     "name": "stdout",
     "output_type": "stream",
     "text": [
      "\n",
      "Generation 1 - Current best internal CV score: -11.815511302161733\n",
      "\n",
      "Generation 2 - Current best internal CV score: -11.488607624777824\n",
      "\n",
      "Generation 3 - Current best internal CV score: -11.48801934901163\n",
      "\n",
      "Generation 4 - Current best internal CV score: -11.188819722526295\n",
      "\n",
      "Generation 5 - Current best internal CV score: -11.188819722526295\n",
      "\n",
      "Generation 6 - Current best internal CV score: -11.182109212171948\n",
      "\n",
      "Generation 7 - Current best internal CV score: -9.877142760398243\n",
      "\n",
      "Generation 8 - Current best internal CV score: -9.542114638032718\n",
      "\n",
      "Generation 9 - Current best internal CV score: -9.150974290067472\n",
      "\n",
      "Generation 10 - Current best internal CV score: -9.150974290067472\n",
      "\n",
      "Generation 11 - Current best internal CV score: -9.150974290067472\n",
      "\n",
      "Generation 12 - Current best internal CV score: -9.150974290067472\n",
      "\n",
      "Generation 13 - Current best internal CV score: -8.342558498062626\n",
      "\n",
      "Generation 14 - Current best internal CV score: -8.342558498062626\n",
      "\n",
      "Generation 15 - Current best internal CV score: -8.342558498062626\n",
      "\n",
      "Best pipeline: ExtraTreesRegressor(SelectPercentile(VarianceThreshold(input_matrix, threshold=0.001), percentile=71), bootstrap=False, max_features=0.15000000000000002, min_samples_leaf=1, min_samples_split=2, n_estimators=100)\n",
      "**************************************************\n",
      "Processing PFE\n",
      "(1117, 39) (1117,)\n"
     ]
    },
    {
     "name": "stderr",
     "output_type": "stream",
     "text": [
      "Version 0.12.2 of tpot is outdated. Version 1.0.0 was released 3 days ago.\n"
     ]
    },
    {
     "data": {
      "application/vnd.jupyter.widget-view+json": {
       "model_id": "cb1e92f1a1f84dbbb59cc803eb83ca61",
       "version_major": 2,
       "version_minor": 0
      },
      "text/plain": [
       "Optimization Progress:   0%|          | 0/640 [00:00<?, ?pipeline/s]"
      ]
     },
     "metadata": {},
     "output_type": "display_data"
    },
    {
     "name": "stdout",
     "output_type": "stream",
     "text": [
      "\n",
      "Generation 1 - Current best internal CV score: -0.7685456941438977\n",
      "\n",
      "Generation 2 - Current best internal CV score: -0.7674841583876517\n",
      "\n",
      "Generation 3 - Current best internal CV score: -0.7674841583876517\n",
      "\n",
      "Generation 4 - Current best internal CV score: -0.7454609043\n",
      "\n",
      "Generation 5 - Current best internal CV score: -0.6877261456695972\n",
      "\n",
      "Generation 6 - Current best internal CV score: -0.6877261456695972\n",
      "\n",
      "Generation 7 - Current best internal CV score: -0.6877261456695972\n",
      "\n",
      "Generation 8 - Current best internal CV score: -0.6748250146608546\n",
      "\n",
      "Generation 9 - Current best internal CV score: -0.6559055768881318\n",
      "\n",
      "Generation 10 - Current best internal CV score: -0.6559055768881318\n",
      "\n",
      "Generation 11 - Current best internal CV score: -0.6137479896643586\n",
      "\n",
      "Generation 12 - Current best internal CV score: -0.6137479896643586\n",
      "\n",
      "Generation 13 - Current best internal CV score: -0.5885424110400785\n",
      "\n",
      "Generation 14 - Current best internal CV score: -0.5885424110400785\n",
      "\n",
      "Generation 15 - Current best internal CV score: -0.5768024491050207\n",
      "\n",
      "Best pipeline: ExtraTreesRegressor(SelectPercentile(input_matrix, percentile=63), bootstrap=False, max_features=0.15000000000000002, min_samples_leaf=1, min_samples_split=2, n_estimators=100)\n",
      "**************************************************\n",
      "Processing NKE\n",
      "(1117, 39) (1117,)\n"
     ]
    },
    {
     "name": "stderr",
     "output_type": "stream",
     "text": [
      "Version 0.12.2 of tpot is outdated. Version 1.0.0 was released 3 days ago.\n"
     ]
    },
    {
     "data": {
      "application/vnd.jupyter.widget-view+json": {
       "model_id": "c5950795133f4863b5ba1db8c639a12c",
       "version_major": 2,
       "version_minor": 0
      },
      "text/plain": [
       "Optimization Progress:   0%|          | 0/640 [00:00<?, ?pipeline/s]"
      ]
     },
     "metadata": {},
     "output_type": "display_data"
    },
    {
     "name": "stdout",
     "output_type": "stream",
     "text": [
      "\n",
      "Generation 1 - Current best internal CV score: -11.146085450442946\n",
      "\n",
      "Generation 2 - Current best internal CV score: -11.146085450442946\n",
      "\n",
      "Generation 3 - Current best internal CV score: -11.146085450442946\n",
      "\n",
      "Generation 4 - Current best internal CV score: -11.096227003498356\n",
      "\n",
      "Generation 5 - Current best internal CV score: -9.388142307937857\n",
      "\n",
      "Generation 6 - Current best internal CV score: -9.388142307937857\n",
      "\n",
      "Generation 7 - Current best internal CV score: -9.388142307937857\n",
      "\n",
      "Generation 8 - Current best internal CV score: -9.388142307937857\n",
      "\n",
      "Generation 9 - Current best internal CV score: -6.989049712748034\n",
      "\n",
      "Generation 10 - Current best internal CV score: -6.989049712748034\n",
      "\n",
      "Generation 11 - Current best internal CV score: -6.989049712748034\n",
      "\n",
      "Generation 12 - Current best internal CV score: -6.989049712748034\n",
      "\n",
      "Generation 13 - Current best internal CV score: -6.989049712748034\n",
      "\n",
      "Generation 14 - Current best internal CV score: -5.801930111598024\n",
      "\n",
      "Generation 15 - Current best internal CV score: -5.801930111598024\n",
      "\n",
      "Best pipeline: ExtraTreesRegressor(AdaBoostRegressor(CombineDFs(input_matrix, input_matrix), learning_rate=1.0, loss=linear, n_estimators=100), bootstrap=False, max_features=0.7500000000000001, min_samples_leaf=1, min_samples_split=7, n_estimators=100)\n",
      "**************************************************\n",
      "Processing CVX\n",
      "(1117, 39) (1117,)\n"
     ]
    },
    {
     "name": "stderr",
     "output_type": "stream",
     "text": [
      "Version 0.12.2 of tpot is outdated. Version 1.0.0 was released 3 days ago.\n"
     ]
    },
    {
     "data": {
      "application/vnd.jupyter.widget-view+json": {
       "model_id": "a4636e121e5f4510af7ebced81f47b5a",
       "version_major": 2,
       "version_minor": 0
      },
      "text/plain": [
       "Optimization Progress:   0%|          | 0/640 [00:00<?, ?pipeline/s]"
      ]
     },
     "metadata": {},
     "output_type": "display_data"
    },
    {
     "name": "stdout",
     "output_type": "stream",
     "text": [
      "\n",
      "Generation 1 - Current best internal CV score: -8.451076027809489\n",
      "\n",
      "Generation 2 - Current best internal CV score: -8.451076027809489\n",
      "\n",
      "Generation 3 - Current best internal CV score: -8.362323669282517\n",
      "\n",
      "Generation 4 - Current best internal CV score: -7.843551320566782\n",
      "\n",
      "Generation 5 - Current best internal CV score: -7.843551320566782\n",
      "\n",
      "Generation 6 - Current best internal CV score: -7.714614182340088\n",
      "\n",
      "Generation 7 - Current best internal CV score: -7.714614182340088\n",
      "\n",
      "Generation 8 - Current best internal CV score: -7.445837986997579\n",
      "\n",
      "Generation 9 - Current best internal CV score: -7.445837986997579\n",
      "\n",
      "Generation 10 - Current best internal CV score: -7.445837986997579\n",
      "\n",
      "Generation 11 - Current best internal CV score: -7.445837986997579\n",
      "\n",
      "Generation 12 - Current best internal CV score: -7.445837986997579\n",
      "\n",
      "Generation 13 - Current best internal CV score: -7.254897067228247\n",
      "\n",
      "Generation 14 - Current best internal CV score: -7.213375589965682\n",
      "\n",
      "Generation 15 - Current best internal CV score: -7.030160376500359\n",
      "\n",
      "Best pipeline: ExtraTreesRegressor(MinMaxScaler(SelectFwe(PolynomialFeatures(RobustScaler(input_matrix), degree=2, include_bias=False, interaction_only=False), alpha=0.006)), bootstrap=False, max_features=0.5, min_samples_leaf=1, min_samples_split=2, n_estimators=100)\n",
      "**************************************************\n",
      "Processing GS\n",
      "(1117, 39) (1117,)\n"
     ]
    },
    {
     "name": "stderr",
     "output_type": "stream",
     "text": [
      "Version 0.12.2 of tpot is outdated. Version 1.0.0 was released 3 days ago.\n"
     ]
    },
    {
     "data": {
      "application/vnd.jupyter.widget-view+json": {
       "model_id": "eb225dd6c18345a0a9fc96c3587ead96",
       "version_major": 2,
       "version_minor": 0
      },
      "text/plain": [
       "Optimization Progress:   0%|          | 0/640 [00:00<?, ?pipeline/s]"
      ]
     },
     "metadata": {},
     "output_type": "display_data"
    },
    {
     "name": "stdout",
     "output_type": "stream",
     "text": [
      "\n",
      "Generation 1 - Current best internal CV score: -38.36117357213415\n",
      "\n",
      "Generation 2 - Current best internal CV score: -38.36117357213415\n",
      "\n",
      "Generation 3 - Current best internal CV score: -38.360599394542724\n",
      "\n",
      "Generation 4 - Current best internal CV score: -38.360599394542724\n",
      "\n",
      "Generation 5 - Current best internal CV score: -35.452340967344185\n",
      "\n",
      "Generation 6 - Current best internal CV score: -35.452340967344185\n",
      "\n",
      "Generation 7 - Current best internal CV score: -33.521659311672636\n",
      "\n",
      "Generation 8 - Current best internal CV score: -33.521659311672636\n",
      "\n",
      "Generation 9 - Current best internal CV score: -33.521659311672636\n",
      "\n",
      "Generation 10 - Current best internal CV score: -33.521659311672636\n",
      "\n",
      "Generation 11 - Current best internal CV score: -33.521659311672636\n",
      "\n",
      "Generation 12 - Current best internal CV score: -33.521659311672636\n",
      "\n",
      "Generation 13 - Current best internal CV score: -32.803880403461015\n",
      "\n",
      "Generation 14 - Current best internal CV score: -32.76956063885397\n",
      "\n",
      "Generation 15 - Current best internal CV score: -31.912562825196385\n",
      "\n",
      "Best pipeline: ExtraTreesRegressor(SelectFwe(PolynomialFeatures(input_matrix, degree=2, include_bias=False, interaction_only=False), alpha=0.02), bootstrap=False, max_features=0.7500000000000001, min_samples_leaf=1, min_samples_split=2, n_estimators=100)\n",
      "**************************************************\n",
      "Processing JNJ\n",
      "(1117, 39) (1117,)\n"
     ]
    },
    {
     "name": "stderr",
     "output_type": "stream",
     "text": [
      "Version 0.12.2 of tpot is outdated. Version 1.0.0 was released 3 days ago.\n"
     ]
    },
    {
     "data": {
      "application/vnd.jupyter.widget-view+json": {
       "model_id": "699d56969b7c43198c682d7de30b9f07",
       "version_major": 2,
       "version_minor": 0
      },
      "text/plain": [
       "Optimization Progress:   0%|          | 0/640 [00:00<?, ?pipeline/s]"
      ]
     },
     "metadata": {},
     "output_type": "display_data"
    },
    {
     "name": "stdout",
     "output_type": "stream",
     "text": [
      "\n",
      "Generation 1 - Current best internal CV score: -7.402965860679188\n",
      "\n",
      "Generation 2 - Current best internal CV score: -7.402965860679188\n",
      "\n",
      "Generation 3 - Current best internal CV score: -6.8020691843793895\n",
      "\n",
      "Generation 4 - Current best internal CV score: -6.341347512628879\n",
      "\n",
      "Generation 5 - Current best internal CV score: -6.341347512628879\n",
      "\n",
      "Generation 6 - Current best internal CV score: -6.2622570942958244\n",
      "\n",
      "Generation 7 - Current best internal CV score: -6.2622570942958244\n",
      "\n",
      "Generation 8 - Current best internal CV score: -6.2622570942958244\n",
      "\n",
      "Generation 9 - Current best internal CV score: -5.4678436265499\n",
      "\n",
      "Generation 10 - Current best internal CV score: -5.4678436265499\n",
      "\n",
      "Generation 11 - Current best internal CV score: -5.4678436265499\n",
      "\n",
      "Generation 12 - Current best internal CV score: -5.3965283114146345\n",
      "\n",
      "Generation 13 - Current best internal CV score: -5.395030053089369\n",
      "\n",
      "Generation 14 - Current best internal CV score: -5.395030053089369\n",
      "\n",
      "Generation 15 - Current best internal CV score: -5.327126539841929\n",
      "\n",
      "Best pipeline: ExtraTreesRegressor(SelectPercentile(input_matrix, percentile=49), bootstrap=False, max_features=0.45, min_samples_leaf=1, min_samples_split=2, n_estimators=100)\n",
      "**************************************************\n",
      "Processing AAPL\n",
      "(1117, 39) (1117,)\n"
     ]
    },
    {
     "name": "stderr",
     "output_type": "stream",
     "text": [
      "Version 0.12.2 of tpot is outdated. Version 1.0.0 was released 3 days ago.\n"
     ]
    },
    {
     "data": {
      "application/vnd.jupyter.widget-view+json": {
       "model_id": "7ce709a7fa904cb5b47d36f2efa75bc6",
       "version_major": 2,
       "version_minor": 0
      },
      "text/plain": [
       "Optimization Progress:   0%|          | 0/640 [00:00<?, ?pipeline/s]"
      ]
     },
     "metadata": {},
     "output_type": "display_data"
    },
    {
     "name": "stdout",
     "output_type": "stream",
     "text": [
      "\n",
      "Generation 1 - Current best internal CV score: -32.11504334275784\n",
      "\n",
      "Generation 2 - Current best internal CV score: -32.11504334275784\n",
      "\n",
      "Generation 3 - Current best internal CV score: -26.61795639322181\n",
      "\n",
      "Generation 4 - Current best internal CV score: -26.034937439906706\n",
      "\n",
      "Generation 5 - Current best internal CV score: -26.034937439906706\n",
      "\n",
      "Generation 6 - Current best internal CV score: -26.01925731897481\n",
      "\n",
      "Generation 7 - Current best internal CV score: -24.49494349700857\n",
      "\n",
      "Generation 8 - Current best internal CV score: -24.49494349700857\n",
      "\n",
      "Generation 9 - Current best internal CV score: -24.49494349700857\n",
      "\n",
      "Generation 10 - Current best internal CV score: -24.49494349700857\n",
      "\n",
      "Generation 11 - Current best internal CV score: -24.49494349700857\n",
      "\n",
      "Generation 12 - Current best internal CV score: -24.49494349700857\n",
      "\n",
      "Generation 13 - Current best internal CV score: -24.15298392014154\n",
      "\n",
      "Generation 14 - Current best internal CV score: -24.09053309362569\n",
      "\n",
      "Generation 15 - Current best internal CV score: -23.700281499345706\n",
      "\n",
      "Best pipeline: ExtraTreesRegressor(OneHotEncoder(VarianceThreshold(ExtraTreesRegressor(VarianceThreshold(LinearSVR(input_matrix, C=0.1, dual=True, epsilon=0.0001, loss=squared_epsilon_insensitive, tol=1e-05), threshold=0.1), bootstrap=False, max_features=0.25, min_samples_leaf=4, min_samples_split=8, n_estimators=100), threshold=0.1), minimum_fraction=0.15, sparse=False, threshold=10), bootstrap=False, max_features=0.7500000000000001, min_samples_leaf=2, min_samples_split=2, n_estimators=100)\n",
      "**************************************************\n",
      "Processing HD\n",
      "(1117, 39) (1117,)\n"
     ]
    },
    {
     "name": "stderr",
     "output_type": "stream",
     "text": [
      "Version 0.12.2 of tpot is outdated. Version 1.0.0 was released 3 days ago.\n"
     ]
    },
    {
     "data": {
      "application/vnd.jupyter.widget-view+json": {
       "model_id": "f48f48368b274c949a35094eed046563",
       "version_major": 2,
       "version_minor": 0
      },
      "text/plain": [
       "Optimization Progress:   0%|          | 0/640 [00:00<?, ?pipeline/s]"
      ]
     },
     "metadata": {},
     "output_type": "display_data"
    },
    {
     "name": "stdout",
     "output_type": "stream",
     "text": [
      "\n",
      "Generation 1 - Current best internal CV score: -22.071927627450783\n",
      "\n",
      "Generation 2 - Current best internal CV score: -18.782276652812563\n",
      "\n",
      "Generation 3 - Current best internal CV score: -17.78046511556645\n",
      "\n",
      "Generation 4 - Current best internal CV score: -17.78046511556645\n",
      "\n",
      "Generation 5 - Current best internal CV score: -17.78046511556645\n",
      "\n",
      "Generation 6 - Current best internal CV score: -17.78046511556645\n",
      "\n",
      "Generation 7 - Current best internal CV score: -17.78046511556645\n",
      "\n",
      "Generation 8 - Current best internal CV score: -17.78046511556645\n",
      "\n",
      "Generation 9 - Current best internal CV score: -17.78046511556645\n",
      "\n",
      "Generation 10 - Current best internal CV score: -17.78046511556645\n",
      "\n",
      "Generation 11 - Current best internal CV score: -17.18407357731813\n",
      "\n",
      "Generation 12 - Current best internal CV score: -17.18407357731813\n",
      "\n",
      "Generation 13 - Current best internal CV score: -17.18407357731813\n",
      "\n",
      "Generation 14 - Current best internal CV score: -17.16242184192799\n",
      "\n",
      "Generation 15 - Current best internal CV score: -17.107868653681464\n",
      "\n",
      "Best pipeline: ExtraTreesRegressor(CombineDFs(SelectFwe(input_matrix, alpha=0.016), Binarizer(SelectFwe(input_matrix, alpha=0.033), threshold=0.8)), bootstrap=False, max_features=0.7500000000000001, min_samples_leaf=1, min_samples_split=2, n_estimators=100)\n",
      "**************************************************\n",
      "Processing MSFT\n",
      "(1117, 39) (1117,)\n"
     ]
    },
    {
     "name": "stderr",
     "output_type": "stream",
     "text": [
      "Version 0.12.2 of tpot is outdated. Version 1.0.0 was released 3 days ago.\n"
     ]
    },
    {
     "data": {
      "application/vnd.jupyter.widget-view+json": {
       "model_id": "9a945e82bd684476beb7e2e927014eda",
       "version_major": 2,
       "version_minor": 0
      },
      "text/plain": [
       "Optimization Progress:   0%|          | 0/640 [00:00<?, ?pipeline/s]"
      ]
     },
     "metadata": {},
     "output_type": "display_data"
    },
    {
     "name": "stdout",
     "output_type": "stream",
     "text": [
      "\n",
      "Generation 1 - Current best internal CV score: -6.168800879241019\n",
      "\n",
      "Generation 2 - Current best internal CV score: -6.168800879241019\n",
      "\n",
      "Generation 3 - Current best internal CV score: -5.70026214568332\n",
      "\n",
      "Generation 4 - Current best internal CV score: -5.70026214568332\n",
      "\n",
      "Generation 5 - Current best internal CV score: -5.70026214568332\n",
      "\n",
      "Generation 6 - Current best internal CV score: -5.259967121712998\n",
      "\n",
      "Generation 7 - Current best internal CV score: -5.259967121712998\n",
      "\n",
      "Generation 8 - Current best internal CV score: -5.259967121712998\n",
      "\n",
      "Generation 9 - Current best internal CV score: -5.259967121712998\n",
      "\n",
      "Generation 10 - Current best internal CV score: -5.220919911281097\n",
      "\n",
      "Generation 11 - Current best internal CV score: -5.220919911281097\n",
      "\n",
      "Generation 12 - Current best internal CV score: -5.2166080339439045\n",
      "\n",
      "Generation 13 - Current best internal CV score: -5.091907110840596\n",
      "\n",
      "Generation 14 - Current best internal CV score: -5.091907110840596\n",
      "\n",
      "Generation 15 - Current best internal CV score: -5.063883214313956\n",
      "\n",
      "Best pipeline: ExtraTreesRegressor(PolynomialFeatures(VarianceThreshold(input_matrix, threshold=0.2), degree=2, include_bias=False, interaction_only=False), bootstrap=False, max_features=0.35000000000000003, min_samples_leaf=2, min_samples_split=5, n_estimators=100)\n",
      "**************************************************\n",
      "Processing VZ\n",
      "(1117, 39) (1117,)\n"
     ]
    },
    {
     "name": "stderr",
     "output_type": "stream",
     "text": [
      "Version 0.12.2 of tpot is outdated. Version 1.0.0 was released 3 days ago.\n"
     ]
    },
    {
     "data": {
      "application/vnd.jupyter.widget-view+json": {
       "model_id": "c40b1b3d8b07444f8800669e57b77a40",
       "version_major": 2,
       "version_minor": 0
      },
      "text/plain": [
       "Optimization Progress:   0%|          | 0/640 [00:00<?, ?pipeline/s]"
      ]
     },
     "metadata": {},
     "output_type": "display_data"
    },
    {
     "name": "stdout",
     "output_type": "stream",
     "text": [
      "\n",
      "Generation 1 - Current best internal CV score: -1.1943763961005252\n",
      "\n",
      "Generation 2 - Current best internal CV score: -1.1943763961005252\n",
      "\n",
      "Generation 3 - Current best internal CV score: -1.0520394043663925\n",
      "\n",
      "Generation 4 - Current best internal CV score: -1.0087749091061415\n",
      "\n",
      "Generation 5 - Current best internal CV score: -0.9916114789949144\n",
      "\n",
      "Generation 6 - Current best internal CV score: -0.9916114789949144\n",
      "\n",
      "Generation 7 - Current best internal CV score: -0.9916114789949144\n",
      "\n",
      "Generation 8 - Current best internal CV score: -0.9916114789949144\n",
      "\n",
      "Generation 9 - Current best internal CV score: -0.9916114789949144\n",
      "\n",
      "Generation 10 - Current best internal CV score: -0.9841021092169274\n",
      "\n",
      "Generation 11 - Current best internal CV score: -0.9841021092169274\n",
      "\n",
      "Generation 12 - Current best internal CV score: -0.9840674993513362\n",
      "\n",
      "Generation 13 - Current best internal CV score: -0.9798588497213521\n",
      "\n",
      "Generation 14 - Current best internal CV score: -0.9798588497213521\n",
      "\n",
      "Generation 15 - Current best internal CV score: -0.9620130852261768\n",
      "\n",
      "Best pipeline: ExtraTreesRegressor(SelectPercentile(VarianceThreshold(input_matrix, threshold=0.05), percentile=54), bootstrap=False, max_features=0.3, min_samples_leaf=1, min_samples_split=2, n_estimators=100)\n",
      "**************************************************\n",
      "Processing CSCO\n",
      "(1117, 39) (1117,)\n"
     ]
    },
    {
     "name": "stderr",
     "output_type": "stream",
     "text": [
      "Version 0.12.2 of tpot is outdated. Version 1.0.0 was released 3 days ago.\n"
     ]
    },
    {
     "data": {
      "application/vnd.jupyter.widget-view+json": {
       "model_id": "e19935c06c5f46149c91e164031f0238",
       "version_major": 2,
       "version_minor": 0
      },
      "text/plain": [
       "Optimization Progress:   0%|          | 0/640 [00:00<?, ?pipeline/s]"
      ]
     },
     "metadata": {},
     "output_type": "display_data"
    },
    {
     "name": "stdout",
     "output_type": "stream",
     "text": [
      "\n",
      "Generation 1 - Current best internal CV score: -1.0870368491617448\n",
      "\n",
      "Generation 2 - Current best internal CV score: -1.000691241462807\n",
      "\n",
      "Generation 3 - Current best internal CV score: -1.000691241462807\n",
      "\n",
      "Generation 4 - Current best internal CV score: -1.000691241462807\n",
      "\n",
      "Generation 5 - Current best internal CV score: -0.9668104981637466\n",
      "\n",
      "Generation 6 - Current best internal CV score: -0.8217970076348381\n",
      "\n",
      "Generation 7 - Current best internal CV score: -0.8217970076348381\n",
      "\n",
      "Generation 8 - Current best internal CV score: -0.8217970076348381\n",
      "\n",
      "Generation 9 - Current best internal CV score: -0.8217970076348381\n",
      "\n",
      "Generation 10 - Current best internal CV score: -0.8217970076348381\n",
      "\n",
      "Generation 11 - Current best internal CV score: -0.8217970076348381\n",
      "\n",
      "Generation 12 - Current best internal CV score: -0.8217970076348381\n",
      "\n",
      "Generation 13 - Current best internal CV score: -0.8217970076348381\n",
      "\n",
      "Generation 14 - Current best internal CV score: -0.8121657585989638\n",
      "\n",
      "Generation 15 - Current best internal CV score: -0.8121657585989638\n",
      "\n",
      "Best pipeline: ExtraTreesRegressor(SelectFwe(input_matrix, alpha=0.04), bootstrap=False, max_features=0.7500000000000001, min_samples_leaf=1, min_samples_split=2, n_estimators=100)\n",
      "**************************************************\n",
      "Processing AXP\n",
      "(1117, 39) (1117,)\n"
     ]
    },
    {
     "name": "stderr",
     "output_type": "stream",
     "text": [
      "Version 0.12.2 of tpot is outdated. Version 1.0.0 was released 3 days ago.\n"
     ]
    },
    {
     "data": {
      "application/vnd.jupyter.widget-view+json": {
       "model_id": "98c09b6e1b3d45e480306dcff6414872",
       "version_major": 2,
       "version_minor": 0
      },
      "text/plain": [
       "Optimization Progress:   0%|          | 0/640 [00:00<?, ?pipeline/s]"
      ]
     },
     "metadata": {},
     "output_type": "display_data"
    },
    {
     "name": "stdout",
     "output_type": "stream",
     "text": [
      "\n",
      "Generation 1 - Current best internal CV score: -6.40078085618723\n",
      "\n",
      "Generation 2 - Current best internal CV score: -6.40078085618723\n",
      "\n",
      "Generation 3 - Current best internal CV score: -6.158538481959451\n",
      "\n",
      "Generation 4 - Current best internal CV score: -5.429591028754453\n",
      "\n",
      "Generation 5 - Current best internal CV score: -5.3020068543702905\n",
      "\n",
      "Generation 6 - Current best internal CV score: -5.3020068543702905\n",
      "\n",
      "Generation 7 - Current best internal CV score: -5.3020068543702905\n",
      "\n",
      "Generation 8 - Current best internal CV score: -5.3020068543702905\n",
      "\n",
      "Generation 9 - Current best internal CV score: -5.039641193808261\n",
      "\n",
      "Generation 10 - Current best internal CV score: -5.039641193808261\n",
      "\n",
      "Generation 11 - Current best internal CV score: -5.039641193808261\n",
      "\n",
      "Generation 12 - Current best internal CV score: -5.039641193808261\n",
      "\n",
      "Generation 13 - Current best internal CV score: -4.960916171575879\n",
      "\n",
      "Generation 14 - Current best internal CV score: -4.960916171575879\n",
      "\n",
      "Generation 15 - Current best internal CV score: -4.960916171575879\n",
      "\n",
      "Best pipeline: ExtraTreesRegressor(VarianceThreshold(SelectFwe(CombineDFs(input_matrix, SelectFwe(input_matrix, alpha=0.032)), alpha=0.017), threshold=0.05), bootstrap=False, max_features=0.5, min_samples_leaf=1, min_samples_split=2, n_estimators=100)\n",
      "**************************************************\n",
      "Processing AMGN\n",
      "(1117, 39) (1117,)\n"
     ]
    },
    {
     "name": "stderr",
     "output_type": "stream",
     "text": [
      "Version 0.12.2 of tpot is outdated. Version 1.0.0 was released 3 days ago.\n"
     ]
    },
    {
     "data": {
      "application/vnd.jupyter.widget-view+json": {
       "model_id": "7f753db6f0fb4fb7a0bd271da2bb36d6",
       "version_major": 2,
       "version_minor": 0
      },
      "text/plain": [
       "Optimization Progress:   0%|          | 0/640 [00:00<?, ?pipeline/s]"
      ]
     },
     "metadata": {},
     "output_type": "display_data"
    },
    {
     "name": "stdout",
     "output_type": "stream",
     "text": [
      "\n",
      "Generation 1 - Current best internal CV score: -25.72501828147432\n",
      "\n",
      "Generation 2 - Current best internal CV score: -25.72501828147432\n",
      "\n",
      "Generation 3 - Current best internal CV score: -25.391782088126146\n",
      "\n",
      "Generation 4 - Current best internal CV score: -23.253833438137725\n",
      "\n",
      "Generation 5 - Current best internal CV score: -23.253833438137725\n",
      "\n",
      "Generation 6 - Current best internal CV score: -23.253833438137725\n",
      "\n",
      "Generation 7 - Current best internal CV score: -23.253833438137725\n",
      "\n",
      "Generation 8 - Current best internal CV score: -21.65822645051053\n",
      "\n",
      "Generation 9 - Current best internal CV score: -21.65822645051053\n",
      "\n",
      "Generation 10 - Current best internal CV score: -21.65822645051053\n",
      "\n",
      "Generation 11 - Current best internal CV score: -21.65822645051053\n",
      "\n",
      "Generation 12 - Current best internal CV score: -21.07152911198886\n",
      "\n",
      "Generation 13 - Current best internal CV score: -20.853812091066978\n",
      "\n",
      "Generation 14 - Current best internal CV score: -20.853812091066978\n",
      "\n",
      "Generation 15 - Current best internal CV score: -20.853812091066978\n",
      "\n",
      "Best pipeline: ExtraTreesRegressor(PolynomialFeatures(SelectFwe(KNeighborsRegressor(RobustScaler(input_matrix), n_neighbors=40, p=2, weights=uniform), alpha=0.012), degree=2, include_bias=False, interaction_only=False), bootstrap=False, max_features=0.5, min_samples_leaf=1, min_samples_split=2, n_estimators=100)\n",
      "**************************************************\n",
      "Processing MRK\n",
      "(1117, 39) (1117,)\n"
     ]
    },
    {
     "name": "stderr",
     "output_type": "stream",
     "text": [
      "Version 0.12.2 of tpot is outdated. Version 1.0.0 was released 3 days ago.\n"
     ]
    },
    {
     "data": {
      "application/vnd.jupyter.widget-view+json": {
       "model_id": "0bc45c86a8de4dc08b3dde0fa100bc3f",
       "version_major": 2,
       "version_minor": 0
      },
      "text/plain": [
       "Optimization Progress:   0%|          | 0/640 [00:00<?, ?pipeline/s]"
      ]
     },
     "metadata": {},
     "output_type": "display_data"
    },
    {
     "name": "stdout",
     "output_type": "stream",
     "text": [
      "\n",
      "Generation 1 - Current best internal CV score: -2.6390349191734495\n",
      "\n",
      "Generation 2 - Current best internal CV score: -2.6390349191734495\n",
      "\n",
      "Generation 3 - Current best internal CV score: -2.576821670459988\n",
      "\n",
      "Generation 4 - Current best internal CV score: -2.576821670459988\n",
      "\n",
      "Generation 5 - Current best internal CV score: -2.3406226662851557\n",
      "\n",
      "Generation 6 - Current best internal CV score: -2.3406226662851557\n",
      "\n",
      "Generation 7 - Current best internal CV score: -2.254882378559828\n",
      "\n",
      "Generation 8 - Current best internal CV score: -2.254882378559828\n",
      "\n",
      "Generation 9 - Current best internal CV score: -2.254882378559828\n",
      "\n",
      "Generation 10 - Current best internal CV score: -2.254882378559828\n",
      "\n",
      "Generation 11 - Current best internal CV score: -2.254882378559828\n",
      "\n",
      "Generation 12 - Current best internal CV score: -2.254882378559828\n",
      "\n",
      "Generation 13 - Current best internal CV score: -2.254882378559828\n",
      "\n",
      "Generation 14 - Current best internal CV score: -2.141865248938861\n",
      "\n",
      "Generation 15 - Current best internal CV score: -2.141865248938861\n",
      "\n",
      "Best pipeline: ExtraTreesRegressor(SelectPercentile(CombineDFs(input_matrix, input_matrix), percentile=52), bootstrap=False, max_features=0.7000000000000001, min_samples_leaf=1, min_samples_split=2, n_estimators=100)\n",
      "**************************************************\n",
      "Processing JPM\n",
      "(1117, 39) (1117,)\n"
     ]
    },
    {
     "name": "stderr",
     "output_type": "stream",
     "text": [
      "Version 0.12.2 of tpot is outdated. Version 1.0.0 was released 3 days ago.\n"
     ]
    },
    {
     "data": {
      "application/vnd.jupyter.widget-view+json": {
       "model_id": "33380447191347acbfdcb417f5b34faf",
       "version_major": 2,
       "version_minor": 0
      },
      "text/plain": [
       "Optimization Progress:   0%|          | 0/640 [00:00<?, ?pipeline/s]"
      ]
     },
     "metadata": {},
     "output_type": "display_data"
    },
    {
     "name": "stdout",
     "output_type": "stream",
     "text": [
      "\n",
      "Generation 1 - Current best internal CV score: -6.189493187525417\n",
      "\n",
      "Generation 2 - Current best internal CV score: -6.189493187525417\n",
      "\n",
      "Generation 3 - Current best internal CV score: -5.8482204050306255\n",
      "\n",
      "Generation 4 - Current best internal CV score: -5.8482204050306255\n",
      "\n",
      "Generation 5 - Current best internal CV score: -5.360664575827515\n",
      "\n",
      "Generation 6 - Current best internal CV score: -5.360664575827515\n",
      "\n",
      "Generation 7 - Current best internal CV score: -5.360664575827515\n",
      "\n",
      "Generation 8 - Current best internal CV score: -5.310991770426288\n",
      "\n",
      "Generation 9 - Current best internal CV score: -5.310991770426288\n",
      "\n",
      "Generation 10 - Current best internal CV score: -5.310991770426288\n",
      "\n",
      "Generation 11 - Current best internal CV score: -5.2235038544145125\n",
      "\n",
      "Generation 12 - Current best internal CV score: -5.2235038544145125\n",
      "\n",
      "Generation 13 - Current best internal CV score: -5.2235038544145125\n",
      "\n",
      "Generation 14 - Current best internal CV score: -5.106071426144302\n",
      "\n",
      "Generation 15 - Current best internal CV score: -5.091675310319107\n",
      "\n",
      "Best pipeline: ExtraTreesRegressor(SelectPercentile(input_matrix, percentile=78), bootstrap=False, max_features=0.45, min_samples_leaf=1, min_samples_split=2, n_estimators=100)\n",
      "**************************************************\n",
      "Processing WMT\n",
      "(1117, 39) (1117,)\n"
     ]
    },
    {
     "name": "stderr",
     "output_type": "stream",
     "text": [
      "Version 0.12.2 of tpot is outdated. Version 1.0.0 was released 3 days ago.\n"
     ]
    },
    {
     "data": {
      "application/vnd.jupyter.widget-view+json": {
       "model_id": "389f5979cd8d4832937b1c4bcf3f0e3b",
       "version_major": 2,
       "version_minor": 0
      },
      "text/plain": [
       "Optimization Progress:   0%|          | 0/640 [00:00<?, ?pipeline/s]"
      ]
     },
     "metadata": {},
     "output_type": "display_data"
    },
    {
     "name": "stdout",
     "output_type": "stream",
     "text": [
      "\n",
      "Generation 1 - Current best internal CV score: -4.06142724030242\n",
      "\n",
      "Generation 2 - Current best internal CV score: -4.06142724030242\n",
      "\n",
      "Generation 3 - Current best internal CV score: -4.06142724030242\n",
      "\n",
      "Generation 4 - Current best internal CV score: -4.06142724030242\n",
      "\n",
      "Generation 5 - Current best internal CV score: -3.5571160449472417\n",
      "\n",
      "Generation 6 - Current best internal CV score: -3.497331500792009\n",
      "\n",
      "Generation 7 - Current best internal CV score: -3.497331500792009\n",
      "\n",
      "Generation 8 - Current best internal CV score: -3.497331500792009\n",
      "\n",
      "Generation 9 - Current best internal CV score: -3.4849640722652637\n",
      "\n",
      "Generation 10 - Current best internal CV score: -3.48221559607844\n",
      "\n",
      "Generation 11 - Current best internal CV score: -3.3799248369330654\n",
      "\n",
      "Generation 12 - Current best internal CV score: -3.3799248369330654\n",
      "\n",
      "Generation 13 - Current best internal CV score: -3.3799248369330654\n",
      "\n",
      "Generation 14 - Current best internal CV score: -3.3799248369330654\n",
      "\n",
      "Generation 15 - Current best internal CV score: -3.3799248369330654\n",
      "\n",
      "Best pipeline: ExtraTreesRegressor(CombineDFs(input_matrix, OneHotEncoder(Binarizer(MinMaxScaler(input_matrix), threshold=0.9500000000000001), minimum_fraction=0.25, sparse=False, threshold=10)), bootstrap=False, max_features=0.5, min_samples_leaf=1, min_samples_split=2, n_estimators=100)\n",
      "**************************************************\n",
      "Processing CRM\n",
      "(1117, 39) (1117,)\n"
     ]
    },
    {
     "name": "stderr",
     "output_type": "stream",
     "text": [
      "Version 0.12.2 of tpot is outdated. Version 1.0.0 was released 3 days ago.\n"
     ]
    },
    {
     "data": {
      "application/vnd.jupyter.widget-view+json": {
       "model_id": "3b20dbf0e746442c9cd7fb22b0dcea1a",
       "version_major": 2,
       "version_minor": 0
      },
      "text/plain": [
       "Optimization Progress:   0%|          | 0/640 [00:00<?, ?pipeline/s]"
      ]
     },
     "metadata": {},
     "output_type": "display_data"
    },
    {
     "name": "stdout",
     "output_type": "stream",
     "text": [
      "\n",
      "Generation 1 - Current best internal CV score: -18.449325467689526\n",
      "\n",
      "Generation 2 - Current best internal CV score: -16.660395611549315\n",
      "\n",
      "Generation 3 - Current best internal CV score: -16.660395611549315\n",
      "\n",
      "Generation 4 - Current best internal CV score: -16.660395611549315\n",
      "\n",
      "Generation 5 - Current best internal CV score: -16.660395611549315\n",
      "\n",
      "Generation 6 - Current best internal CV score: -15.952271851507817\n",
      "\n",
      "Generation 7 - Current best internal CV score: -15.678334051142269\n",
      "\n",
      "Generation 8 - Current best internal CV score: -15.678334051142269\n",
      "\n",
      "Generation 9 - Current best internal CV score: -15.678334051142269\n",
      "\n",
      "Generation 10 - Current best internal CV score: -15.678334051142269\n",
      "\n",
      "Generation 11 - Current best internal CV score: -15.678334051142269\n",
      "\n",
      "Generation 12 - Current best internal CV score: -15.63779811147207\n",
      "\n",
      "Generation 13 - Current best internal CV score: -15.592031030957662\n",
      "\n",
      "Generation 14 - Current best internal CV score: -15.592031030957662\n",
      "\n",
      "Generation 15 - Current best internal CV score: -15.521773361687071\n",
      "\n",
      "Best pipeline: ExtraTreesRegressor(SelectPercentile(CombineDFs(ElasticNetCV(XGBRegressor(input_matrix, learning_rate=1.0, max_depth=5, min_child_weight=14, n_estimators=100, n_jobs=1, objective=reg:squarederror, subsample=0.25, verbosity=0), l1_ratio=0.8500000000000001, tol=0.01), input_matrix), percentile=53), bootstrap=False, max_features=0.1, min_samples_leaf=1, min_samples_split=2, n_estimators=100)\n",
      "**************************************************\n",
      "Processing NVDA\n",
      "(1117, 39) (1117,)\n"
     ]
    },
    {
     "name": "stderr",
     "output_type": "stream",
     "text": [
      "Version 0.12.2 of tpot is outdated. Version 1.0.0 was released 3 days ago.\n"
     ]
    },
    {
     "data": {
      "application/vnd.jupyter.widget-view+json": {
       "model_id": "cc1a6b7ce61541459bcc8e0f3bf33d3a",
       "version_major": 2,
       "version_minor": 0
      },
      "text/plain": [
       "Optimization Progress:   0%|          | 0/640 [00:00<?, ?pipeline/s]"
      ]
     },
     "metadata": {},
     "output_type": "display_data"
    },
    {
     "name": "stdout",
     "output_type": "stream",
     "text": [
      "\n",
      "Generation 1 - Current best internal CV score: -75.45980977988873\n",
      "\n",
      "Generation 2 - Current best internal CV score: -65.77157454182074\n",
      "\n",
      "Generation 3 - Current best internal CV score: -64.73380701861014\n",
      "\n",
      "Generation 4 - Current best internal CV score: -62.03982992028775\n",
      "\n",
      "Generation 5 - Current best internal CV score: -61.52254048283417\n",
      "\n",
      "Generation 6 - Current best internal CV score: -61.52254048283417\n",
      "\n",
      "Generation 7 - Current best internal CV score: -58.84949494294041\n",
      "\n",
      "Generation 8 - Current best internal CV score: -58.84949494294041\n",
      "\n",
      "Generation 9 - Current best internal CV score: -58.84949494294041\n",
      "\n",
      "Generation 10 - Current best internal CV score: -58.84949494294041\n",
      "\n",
      "Generation 11 - Current best internal CV score: -58.84949494294041\n",
      "\n",
      "Generation 12 - Current best internal CV score: -53.84392111845491\n",
      "\n",
      "Generation 13 - Current best internal CV score: -52.544029691518446\n",
      "\n",
      "Generation 14 - Current best internal CV score: -52.544029691518446\n",
      "\n",
      "Generation 15 - Current best internal CV score: -52.544029691518446\n",
      "\n",
      "Best pipeline: RandomForestRegressor(SelectFwe(input_matrix, alpha=0.043000000000000003), bootstrap=False, max_features=0.1, min_samples_leaf=1, min_samples_split=2, n_estimators=100)\n",
      "**************************************************\n",
      "Processing V\n",
      "(1117, 39) (1117,)\n"
     ]
    },
    {
     "name": "stderr",
     "output_type": "stream",
     "text": [
      "Version 0.12.2 of tpot is outdated. Version 1.0.0 was released 3 days ago.\n"
     ]
    },
    {
     "data": {
      "application/vnd.jupyter.widget-view+json": {
       "model_id": "c4eb8696562149ceac76d969adc774fc",
       "version_major": 2,
       "version_minor": 0
      },
      "text/plain": [
       "Optimization Progress:   0%|          | 0/640 [00:00<?, ?pipeline/s]"
      ]
     },
     "metadata": {},
     "output_type": "display_data"
    },
    {
     "name": "stdout",
     "output_type": "stream",
     "text": [
      "\n",
      "Generation 1 - Current best internal CV score: -84.30944091309898\n",
      "\n",
      "Generation 2 - Current best internal CV score: -84.30944091309898\n",
      "\n",
      "Generation 3 - Current best internal CV score: -82.61109590992632\n",
      "\n",
      "Generation 4 - Current best internal CV score: -82.61109590992632\n",
      "\n",
      "Generation 5 - Current best internal CV score: -68.48993504533053\n",
      "\n",
      "Generation 6 - Current best internal CV score: -68.48993504533053\n",
      "\n",
      "Generation 7 - Current best internal CV score: -65.10585271722161\n",
      "\n",
      "Generation 8 - Current best internal CV score: -65.10585271722161\n",
      "\n",
      "Generation 9 - Current best internal CV score: -55.86299655619911\n",
      "\n",
      "Generation 10 - Current best internal CV score: -55.86299655619911\n",
      "\n",
      "Generation 11 - Current best internal CV score: -55.86299655619911\n",
      "\n",
      "Generation 12 - Current best internal CV score: -53.54628391355402\n",
      "\n",
      "Generation 13 - Current best internal CV score: -39.444669336883635\n",
      "\n",
      "Generation 14 - Current best internal CV score: -31.937413206338846\n",
      "\n",
      "Generation 15 - Current best internal CV score: -31.937413206338846\n",
      "\n",
      "Best pipeline: ExtraTreesRegressor(SelectFwe(StandardScaler(XGBRegressor(SelectFromModel(RandomForestRegressor(SelectFwe(input_matrix, alpha=0.008), bootstrap=False, max_features=0.8, min_samples_leaf=16, min_samples_split=8, n_estimators=100), max_features=0.2, n_estimators=100, threshold=0.0), learning_rate=0.1, max_depth=7, min_child_weight=7, n_estimators=100, n_jobs=1, objective=reg:squarederror, subsample=0.8500000000000001, verbosity=0)), alpha=0.045), bootstrap=True, max_features=0.7500000000000001, min_samples_leaf=1, min_samples_split=2, n_estimators=100)\n",
      "**************************************************\n",
      "Processing CAT\n",
      "(1117, 39) (1117,)\n"
     ]
    },
    {
     "name": "stderr",
     "output_type": "stream",
     "text": [
      "Version 0.12.2 of tpot is outdated. Version 1.0.0 was released 3 days ago.\n"
     ]
    },
    {
     "data": {
      "application/vnd.jupyter.widget-view+json": {
       "model_id": "05ad7b878771486db683bca2c9e86d7b",
       "version_major": 2,
       "version_minor": 0
      },
      "text/plain": [
       "Optimization Progress:   0%|          | 0/640 [00:00<?, ?pipeline/s]"
      ]
     },
     "metadata": {},
     "output_type": "display_data"
    },
    {
     "name": "stdout",
     "output_type": "stream",
     "text": [
      "\n",
      "Generation 1 - Current best internal CV score: -15.044229794715614\n",
      "\n",
      "Generation 2 - Current best internal CV score: -14.339506398989442\n",
      "\n",
      "Generation 3 - Current best internal CV score: -14.339506398989442\n",
      "\n",
      "Generation 4 - Current best internal CV score: -14.287044563728745\n",
      "\n",
      "Generation 5 - Current best internal CV score: -13.319120185529139\n",
      "\n",
      "Generation 6 - Current best internal CV score: -13.319120185529139\n",
      "\n",
      "Generation 7 - Current best internal CV score: -13.319120185529139\n",
      "\n",
      "Generation 8 - Current best internal CV score: -13.319120185529139\n",
      "\n",
      "Generation 9 - Current best internal CV score: -12.759044181695435\n",
      "\n",
      "Generation 10 - Current best internal CV score: -12.684266996736419\n",
      "\n",
      "Generation 11 - Current best internal CV score: -12.684266996736419\n",
      "\n",
      "Generation 12 - Current best internal CV score: -11.96419365975865\n",
      "\n",
      "Generation 13 - Current best internal CV score: -11.96419365975865\n",
      "\n",
      "Generation 14 - Current best internal CV score: -11.96419365975865\n",
      "\n",
      "Generation 15 - Current best internal CV score: -11.96419365975865\n",
      "\n",
      "Best pipeline: ExtraTreesRegressor(StandardScaler(PolynomialFeatures(SelectFwe(input_matrix, alpha=0.021), degree=2, include_bias=False, interaction_only=False)), bootstrap=False, max_features=0.5, min_samples_leaf=1, min_samples_split=2, n_estimators=100)\n",
      "**************************************************\n",
      "Processing DIS\n",
      "(1117, 39) (1117,)\n"
     ]
    },
    {
     "name": "stderr",
     "output_type": "stream",
     "text": [
      "Version 0.12.2 of tpot is outdated. Version 1.0.0 was released 3 days ago.\n"
     ]
    },
    {
     "data": {
      "application/vnd.jupyter.widget-view+json": {
       "model_id": "0a743eb3adba42d1bb25949032353b32",
       "version_major": 2,
       "version_minor": 0
      },
      "text/plain": [
       "Optimization Progress:   0%|          | 0/640 [00:00<?, ?pipeline/s]"
      ]
     },
     "metadata": {},
     "output_type": "display_data"
    },
    {
     "name": "stdout",
     "output_type": "stream",
     "text": [
      "\n",
      "Generation 1 - Current best internal CV score: -9.592435985799387\n",
      "\n",
      "Generation 2 - Current best internal CV score: -9.592435985799387\n",
      "\n",
      "Generation 3 - Current best internal CV score: -9.442461396938528\n",
      "\n",
      "Generation 4 - Current best internal CV score: -8.991269075221538\n",
      "\n",
      "Generation 5 - Current best internal CV score: -8.601346318197947\n",
      "\n",
      "Generation 6 - Current best internal CV score: -8.600601353687537\n",
      "\n",
      "Generation 7 - Current best internal CV score: -8.512951640699177\n",
      "\n",
      "Generation 8 - Current best internal CV score: -8.199495761947974\n",
      "\n",
      "Generation 9 - Current best internal CV score: -8.199495761947974\n",
      "\n",
      "Generation 10 - Current best internal CV score: -8.199495761947974\n",
      "\n",
      "Generation 11 - Current best internal CV score: -8.199495761947974\n",
      "\n",
      "Generation 12 - Current best internal CV score: -7.593394583920322\n",
      "\n",
      "Generation 13 - Current best internal CV score: -7.593394583920322\n",
      "\n",
      "Generation 14 - Current best internal CV score: -7.429652194389844\n",
      "\n",
      "Generation 15 - Current best internal CV score: -7.429652194389844\n",
      "\n",
      "Best pipeline: ExtraTreesRegressor(VarianceThreshold(SelectFwe(input_matrix, alpha=0.038), threshold=0.005), bootstrap=False, max_features=0.5, min_samples_leaf=1, min_samples_split=3, n_estimators=100)\n",
      "**************************************************\n",
      "Processing MMM\n",
      "(1117, 39) (1117,)\n"
     ]
    },
    {
     "name": "stderr",
     "output_type": "stream",
     "text": [
      "Version 0.12.2 of tpot is outdated. Version 1.0.0 was released 3 days ago.\n"
     ]
    },
    {
     "data": {
      "application/vnd.jupyter.widget-view+json": {
       "model_id": "9476cce01a9a4ea59188d78981797ce2",
       "version_major": 2,
       "version_minor": 0
      },
      "text/plain": [
       "Optimization Progress:   0%|          | 0/640 [00:00<?, ?pipeline/s]"
      ]
     },
     "metadata": {},
     "output_type": "display_data"
    },
    {
     "name": "stdout",
     "output_type": "stream",
     "text": [
      "\n",
      "Generation 1 - Current best internal CV score: -19.477499727610322\n",
      "\n",
      "Generation 2 - Current best internal CV score: -19.477499727610322\n",
      "\n",
      "Generation 3 - Current best internal CV score: -18.799534723545086\n",
      "\n",
      "Generation 4 - Current best internal CV score: -18.799534723545086\n",
      "\n",
      "Generation 5 - Current best internal CV score: -18.799534723545086\n",
      "\n",
      "Generation 6 - Current best internal CV score: -18.63113437736283\n",
      "\n",
      "Generation 7 - Current best internal CV score: -18.05189671506311\n",
      "\n",
      "Generation 8 - Current best internal CV score: -17.240296252627328\n",
      "\n",
      "Generation 9 - Current best internal CV score: -17.240296252627328\n",
      "\n",
      "Generation 10 - Current best internal CV score: -17.240296252627328\n",
      "\n",
      "Generation 11 - Current best internal CV score: -17.239132832093265\n",
      "\n",
      "Generation 12 - Current best internal CV score: -16.692668667533297\n",
      "\n",
      "Generation 13 - Current best internal CV score: -16.692668667533297\n",
      "\n",
      "Generation 14 - Current best internal CV score: -15.228256143469732\n",
      "\n",
      "Generation 15 - Current best internal CV score: -15.228256143469732\n",
      "\n",
      "Best pipeline: ExtraTreesRegressor(PolynomialFeatures(SelectFwe(input_matrix, alpha=0.031), degree=2, include_bias=False, interaction_only=False), bootstrap=False, max_features=0.5, min_samples_leaf=2, min_samples_split=2, n_estimators=100)\n",
      "**************************************************\n",
      "Processing SHW\n",
      "(1117, 39) (1117,)\n"
     ]
    },
    {
     "name": "stderr",
     "output_type": "stream",
     "text": [
      "Version 0.12.2 of tpot is outdated. Version 1.0.0 was released 3 days ago.\n"
     ]
    },
    {
     "data": {
      "application/vnd.jupyter.widget-view+json": {
       "model_id": "5e4c317fb4184928ac9dbba7cc145817",
       "version_major": 2,
       "version_minor": 0
      },
      "text/plain": [
       "Optimization Progress:   0%|          | 0/640 [00:00<?, ?pipeline/s]"
      ]
     },
     "metadata": {},
     "output_type": "display_data"
    },
    {
     "name": "stdout",
     "output_type": "stream",
     "text": [
      "\n",
      "Generation 1 - Current best internal CV score: -127.47757310915586\n",
      "\n",
      "Generation 2 - Current best internal CV score: -127.47757310915586\n",
      "\n",
      "Generation 3 - Current best internal CV score: -127.47757310915586\n",
      "\n",
      "Generation 4 - Current best internal CV score: -127.47757310915586\n",
      "\n",
      "Generation 5 - Current best internal CV score: -110.83300422889548\n",
      "\n",
      "Generation 6 - Current best internal CV score: -105.86951570779858\n",
      "\n",
      "Generation 7 - Current best internal CV score: -105.86951570779858\n",
      "\n",
      "Generation 8 - Current best internal CV score: -105.86951570779858\n",
      "\n",
      "Generation 9 - Current best internal CV score: -105.86951570779858\n",
      "\n",
      "Generation 10 - Current best internal CV score: -105.86951570779858\n",
      "\n",
      "Generation 11 - Current best internal CV score: -98.17729068803996\n",
      "\n",
      "Generation 12 - Current best internal CV score: -98.17729068803996\n",
      "\n",
      "Generation 13 - Current best internal CV score: -98.17729068803996\n",
      "\n",
      "Generation 14 - Current best internal CV score: -98.17729068803996\n",
      "\n",
      "Generation 15 - Current best internal CV score: -97.52360169519422\n",
      "\n",
      "Best pipeline: ExtraTreesRegressor(SelectFwe(input_matrix, alpha=0.024), bootstrap=False, max_features=0.3, min_samples_leaf=1, min_samples_split=2, n_estimators=100)\n",
      "**************************************************\n",
      "Processing BA\n",
      "(1117, 39) (1117,)\n"
     ]
    },
    {
     "name": "stderr",
     "output_type": "stream",
     "text": [
      "Version 0.12.2 of tpot is outdated. Version 1.0.0 was released 3 days ago.\n"
     ]
    },
    {
     "data": {
      "application/vnd.jupyter.widget-view+json": {
       "model_id": "e9562309cc1f4b758e5b6732c1a54956",
       "version_major": 2,
       "version_minor": 0
      },
      "text/plain": [
       "Optimization Progress:   0%|          | 0/640 [00:00<?, ?pipeline/s]"
      ]
     },
     "metadata": {},
     "output_type": "display_data"
    },
    {
     "name": "stdout",
     "output_type": "stream",
     "text": [
      "\n",
      "Generation 1 - Current best internal CV score: -103.39262114341814\n",
      "\n",
      "Generation 2 - Current best internal CV score: -101.8776635941311\n",
      "\n",
      "Generation 3 - Current best internal CV score: -94.71323979160185\n",
      "\n",
      "Generation 4 - Current best internal CV score: -79.59258230214152\n",
      "\n",
      "Generation 5 - Current best internal CV score: -79.59258230214152\n",
      "\n",
      "Generation 6 - Current best internal CV score: -79.59258230214152\n",
      "\n",
      "Generation 7 - Current best internal CV score: -79.59258230214152\n",
      "\n",
      "Generation 8 - Current best internal CV score: -75.83630388729958\n",
      "\n",
      "Generation 9 - Current best internal CV score: -75.83630388729958\n",
      "\n",
      "Generation 10 - Current best internal CV score: -75.7694132543489\n",
      "\n",
      "Generation 11 - Current best internal CV score: -75.7694132543489\n",
      "\n",
      "Generation 12 - Current best internal CV score: -75.10124980961135\n",
      "\n",
      "Generation 13 - Current best internal CV score: -75.10124980961135\n",
      "\n",
      "Generation 14 - Current best internal CV score: -75.02106656247682\n",
      "\n",
      "Generation 15 - Current best internal CV score: -74.90808338567943\n",
      "\n",
      "Best pipeline: ExtraTreesRegressor(SelectPercentile(input_matrix, percentile=50), bootstrap=False, max_features=0.3, min_samples_leaf=1, min_samples_split=2, n_estimators=100)\n",
      "**************************************************\n",
      "Processing PG\n",
      "(1117, 39) (1117,)\n"
     ]
    },
    {
     "name": "stderr",
     "output_type": "stream",
     "text": [
      "Version 0.12.2 of tpot is outdated. Version 1.0.0 was released 3 days ago.\n"
     ]
    },
    {
     "data": {
      "application/vnd.jupyter.widget-view+json": {
       "model_id": "3aff7b766e024510b2bf1447d3b63628",
       "version_major": 2,
       "version_minor": 0
      },
      "text/plain": [
       "Optimization Progress:   0%|          | 0/640 [00:00<?, ?pipeline/s]"
      ]
     },
     "metadata": {},
     "output_type": "display_data"
    },
    {
     "name": "stdout",
     "output_type": "stream",
     "text": [
      "\n",
      "Generation 1 - Current best internal CV score: -3.660863350075668\n",
      "\n",
      "Generation 2 - Current best internal CV score: -3.5672656963680716\n",
      "\n",
      "Generation 3 - Current best internal CV score: -3.5672656963680716\n",
      "\n",
      "Generation 4 - Current best internal CV score: -3.32667310936134\n",
      "\n",
      "Generation 5 - Current best internal CV score: -3.220141531026178\n",
      "\n",
      "Generation 6 - Current best internal CV score: -3.220141531026178\n",
      "\n",
      "Generation 7 - Current best internal CV score: -3.220141531026178\n",
      "\n",
      "Generation 8 - Current best internal CV score: -3.220141531026178\n",
      "\n",
      "Generation 9 - Current best internal CV score: -3.1472362472564046\n",
      "\n",
      "Generation 10 - Current best internal CV score: -3.1472362472564046\n",
      "\n",
      "Generation 11 - Current best internal CV score: -3.1472362472564046\n",
      "\n",
      "Generation 12 - Current best internal CV score: -3.1472362472564046\n",
      "\n",
      "Generation 13 - Current best internal CV score: -3.0833211468407984\n",
      "\n",
      "Generation 14 - Current best internal CV score: -3.0833211468407984\n",
      "\n",
      "Generation 15 - Current best internal CV score: -3.0833211468407984\n",
      "\n",
      "Best pipeline: ExtraTreesRegressor(SelectFwe(ExtraTreesRegressor(input_matrix, bootstrap=False, max_features=0.4, min_samples_leaf=1, min_samples_split=10, n_estimators=100), alpha=0.03), bootstrap=False, max_features=0.7500000000000001, min_samples_leaf=1, min_samples_split=2, n_estimators=100)\n",
      "**************************************************\n",
      "Processing KO\n",
      "(1117, 39) (1117,)\n"
     ]
    },
    {
     "name": "stderr",
     "output_type": "stream",
     "text": [
      "Version 0.12.2 of tpot is outdated. Version 1.0.0 was released 3 days ago.\n"
     ]
    },
    {
     "data": {
      "application/vnd.jupyter.widget-view+json": {
       "model_id": "8781532610574920b539312142a1c3a4",
       "version_major": 2,
       "version_minor": 0
      },
      "text/plain": [
       "Optimization Progress:   0%|          | 0/640 [00:00<?, ?pipeline/s]"
      ]
     },
     "metadata": {},
     "output_type": "display_data"
    },
    {
     "name": "stdout",
     "output_type": "stream",
     "text": [
      "\n",
      "Generation 1 - Current best internal CV score: -0.8553736758262073\n",
      "\n",
      "Generation 2 - Current best internal CV score: -0.8553736758262073\n",
      "\n",
      "Generation 3 - Current best internal CV score: -0.772735505734785\n",
      "\n",
      "Generation 4 - Current best internal CV score: -0.772735505734785\n",
      "\n",
      "Generation 5 - Current best internal CV score: -0.7616802088658723\n",
      "\n",
      "Generation 6 - Current best internal CV score: -0.751177031303971\n",
      "\n",
      "Generation 7 - Current best internal CV score: -0.751177031303971\n",
      "\n",
      "Generation 8 - Current best internal CV score: -0.751177031303971\n",
      "\n",
      "Generation 9 - Current best internal CV score: -0.751177031303971\n",
      "\n",
      "Generation 10 - Current best internal CV score: -0.751177031303971\n",
      "\n",
      "Generation 11 - Current best internal CV score: -0.7488219052150062\n",
      "\n",
      "Generation 12 - Current best internal CV score: -0.7488219052150062\n",
      "\n",
      "Generation 13 - Current best internal CV score: -0.7488219052150062\n",
      "\n",
      "Generation 14 - Current best internal CV score: -0.7442653583751997\n",
      "\n",
      "Generation 15 - Current best internal CV score: -0.7414804519441861\n",
      "\n",
      "Best pipeline: ExtraTreesRegressor(SelectFwe(input_matrix, alpha=0.049), bootstrap=False, max_features=0.3, min_samples_leaf=1, min_samples_split=2, n_estimators=100)\n",
      "**************************************************\n",
      "Processing UNH\n",
      "(1117, 39) (1117,)\n"
     ]
    },
    {
     "name": "stderr",
     "output_type": "stream",
     "text": [
      "Version 0.12.2 of tpot is outdated. Version 1.0.0 was released 3 days ago.\n"
     ]
    },
    {
     "data": {
      "application/vnd.jupyter.widget-view+json": {
       "model_id": "aa240c48c109472ca7831b7e9dd4b5ff",
       "version_major": 2,
       "version_minor": 0
      },
      "text/plain": [
       "Optimization Progress:   0%|          | 0/640 [00:00<?, ?pipeline/s]"
      ]
     },
     "metadata": {},
     "output_type": "display_data"
    },
    {
     "name": "stdout",
     "output_type": "stream",
     "text": [
      "\n",
      "Generation 1 - Current best internal CV score: -36.681347289827535\n",
      "\n",
      "Generation 2 - Current best internal CV score: -36.681347289827535\n",
      "\n",
      "Generation 3 - Current best internal CV score: -32.79517082711814\n",
      "\n",
      "Generation 4 - Current best internal CV score: -31.502727959257726\n",
      "\n",
      "Generation 5 - Current best internal CV score: -28.30787054472561\n",
      "\n",
      "Generation 6 - Current best internal CV score: -27.463715487610735\n",
      "\n",
      "Generation 7 - Current best internal CV score: -27.463715487610735\n",
      "\n",
      "Generation 8 - Current best internal CV score: -27.463715487610735\n",
      "\n",
      "Generation 9 - Current best internal CV score: -27.463715487610735\n",
      "\n",
      "Generation 10 - Current best internal CV score: -26.932469850287852\n",
      "\n",
      "Generation 11 - Current best internal CV score: -25.06992968812044\n",
      "\n",
      "Generation 12 - Current best internal CV score: -25.06992968812044\n",
      "\n",
      "Generation 13 - Current best internal CV score: -25.06992968812044\n",
      "\n",
      "Generation 14 - Current best internal CV score: -25.06992968812044\n",
      "\n",
      "Generation 15 - Current best internal CV score: -25.06992968812044\n",
      "\n",
      "Best pipeline: ExtraTreesRegressor(SelectFwe(RobustScaler(input_matrix), alpha=0.02), bootstrap=False, max_features=0.3, min_samples_leaf=1, min_samples_split=2, n_estimators=100)\n",
      "**************************************************\n",
      "Processing MCD\n",
      "(1117, 39) (1117,)\n"
     ]
    },
    {
     "name": "stderr",
     "output_type": "stream",
     "text": [
      "Version 0.12.2 of tpot is outdated. Version 1.0.0 was released 3 days ago.\n"
     ]
    },
    {
     "data": {
      "application/vnd.jupyter.widget-view+json": {
       "model_id": "4917853d2f684316bb7698b6575b267f",
       "version_major": 2,
       "version_minor": 0
      },
      "text/plain": [
       "Optimization Progress:   0%|          | 0/640 [00:00<?, ?pipeline/s]"
      ]
     },
     "metadata": {},
     "output_type": "display_data"
    },
    {
     "name": "stdout",
     "output_type": "stream",
     "text": [
      "\n",
      "Generation 1 - Current best internal CV score: -13.849783866247765\n",
      "\n",
      "Generation 2 - Current best internal CV score: -13.849783866247765\n",
      "\n",
      "Generation 3 - Current best internal CV score: -13.318006585120688\n",
      "\n",
      "Generation 4 - Current best internal CV score: -13.315688232278845\n",
      "\n",
      "Generation 5 - Current best internal CV score: -13.315688232278845\n",
      "\n",
      "Generation 6 - Current best internal CV score: -13.012276499810842\n",
      "\n",
      "Generation 7 - Current best internal CV score: -12.26757619918742\n",
      "\n",
      "Generation 8 - Current best internal CV score: -12.004671446698769\n",
      "\n",
      "Generation 9 - Current best internal CV score: -11.763966028809666\n",
      "\n",
      "Generation 10 - Current best internal CV score: -11.716953722597864\n",
      "\n",
      "Generation 11 - Current best internal CV score: -11.286120907723197\n",
      "\n",
      "Generation 12 - Current best internal CV score: -11.286120907723197\n",
      "\n",
      "Generation 13 - Current best internal CV score: -11.248993697290583\n",
      "\n",
      "Generation 14 - Current best internal CV score: -11.248993697290583\n",
      "\n",
      "Generation 15 - Current best internal CV score: -11.248993697290583\n",
      "\n",
      "Best pipeline: ExtraTreesRegressor(SelectFwe(input_matrix, alpha=0.019), bootstrap=False, max_features=0.7500000000000001, min_samples_leaf=1, min_samples_split=2, n_estimators=100)\n",
      "**************************************************\n",
      "Processing TRV\n",
      "(1117, 39) (1117,)\n"
     ]
    },
    {
     "name": "stderr",
     "output_type": "stream",
     "text": [
      "Version 0.12.2 of tpot is outdated. Version 1.0.0 was released 3 days ago.\n"
     ]
    },
    {
     "data": {
      "application/vnd.jupyter.widget-view+json": {
       "model_id": "3f8d14f385ee4f7cb0dc1330f5f4619b",
       "version_major": 2,
       "version_minor": 0
      },
      "text/plain": [
       "Optimization Progress:   0%|          | 0/640 [00:00<?, ?pipeline/s]"
      ]
     },
     "metadata": {},
     "output_type": "display_data"
    },
    {
     "name": "stdout",
     "output_type": "stream",
     "text": [
      "\n",
      "Generation 1 - Current best internal CV score: -8.810099895756057\n",
      "\n",
      "Generation 2 - Current best internal CV score: -8.543382786628765\n",
      "\n",
      "Generation 3 - Current best internal CV score: -8.543382786628765\n",
      "\n",
      "Generation 4 - Current best internal CV score: -8.347796323173743\n",
      "\n",
      "Generation 5 - Current best internal CV score: -8.347796323173743\n",
      "\n",
      "Generation 6 - Current best internal CV score: -7.7448448645875105\n",
      "\n",
      "Generation 7 - Current best internal CV score: -7.653676518383195\n",
      "\n",
      "Generation 8 - Current best internal CV score: -7.132348504498711\n",
      "\n",
      "Generation 9 - Current best internal CV score: -6.887924109278946\n",
      "\n",
      "Generation 10 - Current best internal CV score: -6.817278224106805\n",
      "\n",
      "Generation 11 - Current best internal CV score: -6.817278224106805\n",
      "\n",
      "Generation 12 - Current best internal CV score: -6.817278224106805\n",
      "\n",
      "Generation 13 - Current best internal CV score: -6.7944373883950036\n",
      "\n",
      "Generation 14 - Current best internal CV score: -6.690515334055718\n",
      "\n",
      "Generation 15 - Current best internal CV score: -6.65355971665021\n",
      "\n",
      "Best pipeline: ExtraTreesRegressor(ZeroCount(ExtraTreesRegressor(SelectFwe(input_matrix, alpha=0.012), bootstrap=True, max_features=0.15000000000000002, min_samples_leaf=8, min_samples_split=8, n_estimators=100)), bootstrap=False, max_features=0.7500000000000001, min_samples_leaf=1, min_samples_split=2, n_estimators=100)\n",
      "**************************************************\n",
      "Processing WBA\n",
      "(1117, 39) (1117,)\n"
     ]
    },
    {
     "name": "stderr",
     "output_type": "stream",
     "text": [
      "Version 0.12.2 of tpot is outdated. Version 1.0.0 was released 4 days ago.\n"
     ]
    },
    {
     "data": {
      "application/vnd.jupyter.widget-view+json": {
       "model_id": "5c4b4e990e764b96ab553d9ef2bd012a",
       "version_major": 2,
       "version_minor": 0
      },
      "text/plain": [
       "Optimization Progress:   0%|          | 0/640 [00:00<?, ?pipeline/s]"
      ]
     },
     "metadata": {},
     "output_type": "display_data"
    },
    {
     "name": "stdout",
     "output_type": "stream",
     "text": [
      "\n",
      "Generation 1 - Current best internal CV score: -4.341552091015383\n",
      "\n",
      "Generation 2 - Current best internal CV score: -3.9771437539917023\n",
      "\n",
      "Generation 3 - Current best internal CV score: -3.9771437539917023\n",
      "\n",
      "Generation 4 - Current best internal CV score: -3.930216638177947\n",
      "\n",
      "Generation 5 - Current best internal CV score: -3.930216638177947\n",
      "\n",
      "Generation 6 - Current best internal CV score: -3.930216638177947\n",
      "\n",
      "Generation 7 - Current best internal CV score: -3.8194105527778057\n",
      "\n",
      "Generation 8 - Current best internal CV score: -3.8194105527778057\n",
      "\n",
      "Generation 9 - Current best internal CV score: -3.8194105527778057\n",
      "\n",
      "Generation 10 - Current best internal CV score: -3.748047242706545\n",
      "\n",
      "Generation 11 - Current best internal CV score: -3.713765146486293\n",
      "\n",
      "Generation 12 - Current best internal CV score: -3.6670612439423644\n",
      "\n",
      "Generation 13 - Current best internal CV score: -3.6670612439423644\n",
      "\n",
      "Generation 14 - Current best internal CV score: -3.624261594414545\n",
      "\n",
      "Generation 15 - Current best internal CV score: -3.4305653958783218\n",
      "\n",
      "Best pipeline: ExtraTreesRegressor(SelectPercentile(input_matrix, percentile=54), bootstrap=False, max_features=0.8, min_samples_leaf=1, min_samples_split=2, n_estimators=100)\n",
      "**************************************************\n",
      "Processing AMZN\n",
      "(1117, 39) (1117,)\n"
     ]
    },
    {
     "name": "stderr",
     "output_type": "stream",
     "text": [
      "Version 0.12.2 of tpot is outdated. Version 1.0.0 was released 4 days ago.\n"
     ]
    },
    {
     "data": {
      "application/vnd.jupyter.widget-view+json": {
       "model_id": "d3e626407e714ff4af0dda1ac7d1699c",
       "version_major": 2,
       "version_minor": 0
      },
      "text/plain": [
       "Optimization Progress:   0%|          | 0/640 [00:00<?, ?pipeline/s]"
      ]
     },
     "metadata": {},
     "output_type": "display_data"
    },
    {
     "name": "stdout",
     "output_type": "stream",
     "text": [
      "\n",
      "Generation 1 - Current best internal CV score: -2416.3084768863423\n",
      "\n",
      "Generation 2 - Current best internal CV score: -2416.3084768863423\n",
      "\n",
      "Generation 3 - Current best internal CV score: -2155.4772358642176\n",
      "\n",
      "Generation 4 - Current best internal CV score: -2049.9953401191988\n",
      "\n",
      "Generation 5 - Current best internal CV score: -1929.8276545781634\n",
      "\n",
      "Generation 6 - Current best internal CV score: -1929.8276545781634\n",
      "\n",
      "Generation 7 - Current best internal CV score: -1929.8276545781634\n",
      "\n",
      "Generation 8 - Current best internal CV score: -1929.8276545781634\n",
      "\n",
      "Generation 9 - Current best internal CV score: -1929.8276545781634\n",
      "\n",
      "Generation 10 - Current best internal CV score: -1843.4785831805711\n",
      "\n",
      "Generation 11 - Current best internal CV score: -1833.235610283753\n",
      "\n",
      "Generation 12 - Current best internal CV score: -1833.235610283753\n",
      "\n",
      "Generation 13 - Current best internal CV score: -1805.4412350887749\n",
      "\n",
      "Generation 14 - Current best internal CV score: -1805.4412350887749\n",
      "\n",
      "Generation 15 - Current best internal CV score: -1805.4412350887749\n",
      "\n",
      "Best pipeline: RandomForestRegressor(AdaBoostRegressor(input_matrix, learning_rate=0.1, loss=square, n_estimators=100), bootstrap=False, max_features=0.35000000000000003, min_samples_leaf=1, min_samples_split=4, n_estimators=100)\n",
      "**************************************************\n",
      "Processing IBM\n",
      "(1117, 39) (1117,)\n"
     ]
    },
    {
     "name": "stderr",
     "output_type": "stream",
     "text": [
      "Version 0.12.2 of tpot is outdated. Version 1.0.0 was released 4 days ago.\n"
     ]
    },
    {
     "data": {
      "application/vnd.jupyter.widget-view+json": {
       "model_id": "0ed9e43f49d84830940a0c24e8a4ac2a",
       "version_major": 2,
       "version_minor": 0
      },
      "text/plain": [
       "Optimization Progress:   0%|          | 0/640 [00:00<?, ?pipeline/s]"
      ]
     },
     "metadata": {},
     "output_type": "display_data"
    },
    {
     "name": "stdout",
     "output_type": "stream",
     "text": [
      "\n",
      "Generation 1 - Current best internal CV score: -14.769284497533931\n",
      "\n",
      "Generation 2 - Current best internal CV score: -14.769284497533931\n",
      "\n",
      "Generation 3 - Current best internal CV score: -14.769284497533931\n",
      "\n",
      "Generation 4 - Current best internal CV score: -14.769284497533931\n",
      "\n",
      "Generation 5 - Current best internal CV score: -12.936038576272788\n",
      "\n",
      "Generation 6 - Current best internal CV score: -12.936038576272788\n",
      "\n",
      "Generation 7 - Current best internal CV score: -12.481794925275123\n",
      "\n",
      "Generation 8 - Current best internal CV score: -12.481794925275123\n",
      "\n",
      "Generation 9 - Current best internal CV score: -12.481794925275123\n",
      "\n",
      "Generation 10 - Current best internal CV score: -12.481794925275123\n",
      "\n",
      "Generation 11 - Current best internal CV score: -12.191873273758416\n",
      "\n",
      "Generation 12 - Current best internal CV score: -10.979557555726618\n",
      "\n",
      "Generation 13 - Current best internal CV score: -10.659178483464808\n",
      "\n",
      "Generation 14 - Current best internal CV score: -10.659178483464808\n",
      "\n",
      "Generation 15 - Current best internal CV score: -10.491190621463335\n",
      "\n",
      "Best pipeline: ExtraTreesRegressor(SelectFwe(CombineDFs(input_matrix, Binarizer(input_matrix, threshold=0.9500000000000001)), alpha=0.015), bootstrap=False, max_features=0.3, min_samples_leaf=1, min_samples_split=2, n_estimators=100)\n",
      "**************************************************\n",
      "Processing INTC\n",
      "(1117, 39) (1117,)\n"
     ]
    },
    {
     "name": "stderr",
     "output_type": "stream",
     "text": [
      "Version 0.12.2 of tpot is outdated. Version 1.0.0 was released 4 days ago.\n"
     ]
    },
    {
     "data": {
      "application/vnd.jupyter.widget-view+json": {
       "model_id": "314b4b70c0124957939050d9b94af17b",
       "version_major": 2,
       "version_minor": 0
      },
      "text/plain": [
       "Optimization Progress:   0%|          | 0/640 [00:00<?, ?pipeline/s]"
      ]
     },
     "metadata": {},
     "output_type": "display_data"
    },
    {
     "name": "stdout",
     "output_type": "stream",
     "text": [
      "\n",
      "Generation 1 - Current best internal CV score: -2.4216025859887718\n",
      "\n",
      "Generation 2 - Current best internal CV score: -2.4216025859887718\n",
      "\n",
      "Generation 3 - Current best internal CV score: -2.4216025859887718\n",
      "\n",
      "Generation 4 - Current best internal CV score: -2.195509543487705\n",
      "\n",
      "Generation 5 - Current best internal CV score: -2.1631366189421497\n",
      "\n",
      "Generation 6 - Current best internal CV score: -2.1631366189421497\n",
      "\n",
      "Generation 7 - Current best internal CV score: -2.1631366189421497\n",
      "\n",
      "Generation 8 - Current best internal CV score: -2.1213035894709598\n",
      "\n",
      "Generation 9 - Current best internal CV score: -2.0885243178606308\n",
      "\n",
      "Generation 10 - Current best internal CV score: -2.0870989655460583\n",
      "\n",
      "Generation 11 - Current best internal CV score: -1.9308252516554247\n",
      "\n",
      "Generation 12 - Current best internal CV score: -1.9308252516554247\n",
      "\n",
      "Generation 13 - Current best internal CV score: -1.9308252516554247\n",
      "\n",
      "Generation 14 - Current best internal CV score: -1.9308252516554247\n",
      "\n",
      "Generation 15 - Current best internal CV score: -1.9308252516554247\n",
      "\n",
      "Best pipeline: ExtraTreesRegressor(SelectPercentile(CombineDFs(input_matrix, input_matrix), percentile=65), bootstrap=False, max_features=0.2, min_samples_leaf=1, min_samples_split=2, n_estimators=100)\n",
      "**************************************************\n",
      "Processing DOW\n",
      "(259, 39) (259,)\n"
     ]
    },
    {
     "name": "stderr",
     "output_type": "stream",
     "text": [
      "Version 0.12.2 of tpot is outdated. Version 1.0.0 was released 4 days ago.\n"
     ]
    },
    {
     "data": {
      "application/vnd.jupyter.widget-view+json": {
       "model_id": "9ff1fd9c9f164f678d5826c81f731c5d",
       "version_major": 2,
       "version_minor": 0
      },
      "text/plain": [
       "Optimization Progress:   0%|          | 0/640 [00:00<?, ?pipeline/s]"
      ]
     },
     "metadata": {},
     "output_type": "display_data"
    },
    {
     "name": "stdout",
     "output_type": "stream",
     "text": [
      "\n",
      "Generation 1 - Current best internal CV score: -4.489999530207965\n",
      "\n",
      "Generation 2 - Current best internal CV score: -4.489999530207965\n",
      "\n",
      "Generation 3 - Current best internal CV score: -4.489999530207965\n",
      "\n",
      "Generation 4 - Current best internal CV score: -3.9829539901440336\n",
      "\n",
      "Generation 5 - Current best internal CV score: -3.9829539901440336\n",
      "\n",
      "Generation 6 - Current best internal CV score: -3.9749185674396577\n",
      "\n",
      "Generation 7 - Current best internal CV score: -3.972145953081255\n",
      "\n",
      "Generation 8 - Current best internal CV score: -3.7985593282993806\n",
      "\n",
      "Generation 9 - Current best internal CV score: -3.490150994947199\n",
      "\n",
      "Generation 10 - Current best internal CV score: -3.490150994947199\n",
      "\n",
      "Generation 11 - Current best internal CV score: -3.4209086259773733\n",
      "\n",
      "Generation 12 - Current best internal CV score: -3.412733640617631\n",
      "\n",
      "Generation 13 - Current best internal CV score: -3.256441590139887\n",
      "\n",
      "Generation 14 - Current best internal CV score: -3.256441590139887\n",
      "\n",
      "Generation 15 - Current best internal CV score: -3.2113742994479586\n",
      "\n",
      "Best pipeline: ExtraTreesRegressor(PolynomialFeatures(SelectPercentile(input_matrix, percentile=56), degree=2, include_bias=False, interaction_only=False), bootstrap=False, max_features=0.5, min_samples_leaf=1, min_samples_split=2, n_estimators=100)\n",
      "**************************************************\n"
     ]
    }
   ],
   "source": [
    "# training\n",
    "\n",
    "models_dict_6 = {}\n",
    "for symbol in components:\n",
    "    print(f'Processing {symbol}')\n",
    "    data = get_stock_data(df, symbol, '2020-08-30')\n",
    "    data = add_technical_indicators(data)\n",
    "    X, y = construct_training_data(data)\n",
    "\n",
    "    X_train, X_test, y_train, y_test = train_test_split(X, y, test_size=0.25, random_state=42)\n",
    "    X_train = X_train.drop(columns=[\"TradingDate\"])\n",
    "    X_train = X_train.values\n",
    "    y_train = y_train.values\n",
    "\n",
    "    print(X_train.shape, y_train.shape)\n",
    "    \n",
    "    # Initialize TPOT Regressor\n",
    "    tpot_ = TPOTRegressor(generations=15, population_size=40, verbosity=2, random_state=42, n_jobs=-1)\n",
    "\n",
    "    # Fit the TPOT Regressor\n",
    "    tpot_.fit(X_train, y_train)\n",
    "\n",
    "    # Store the model in a dictionary (could be for multiple problems)\n",
    "    models_dict_6[symbol] = tpot_.fitted_pipeline_\n",
    "    # print(f'Exporting model for {symbol}')\n",
    "    print('*'*50)"
   ]
  },
  {
   "cell_type": "code",
   "execution_count": 8,
   "metadata": {},
   "outputs": [
    {
     "name": "stdout",
     "output_type": "stream",
     "text": [
      "Processing HON\n"
     ]
    },
    {
     "name": "stderr",
     "output_type": "stream",
     "text": [
      "Version 0.12.2 of tpot is outdated. Version 1.0.0 was released 4 days ago.\n"
     ]
    },
    {
     "data": {
      "application/vnd.jupyter.widget-view+json": {
       "model_id": "c055fc23f6a549cd8d06ac5bf6e30557",
       "version_major": 2,
       "version_minor": 0
      },
      "text/plain": [
       "Optimization Progress:   0%|          | 0/640 [00:00<?, ?pipeline/s]"
      ]
     },
     "metadata": {},
     "output_type": "display_data"
    },
    {
     "name": "stdout",
     "output_type": "stream",
     "text": [
      "\n",
      "Generation 1 - Current best internal CV score: -13.591507202731446\n",
      "\n",
      "Generation 2 - Current best internal CV score: -13.591507202731446\n",
      "\n",
      "Generation 3 - Current best internal CV score: -13.591507202731446\n",
      "\n",
      "Generation 4 - Current best internal CV score: -13.236070724743616\n",
      "\n",
      "Generation 5 - Current best internal CV score: -12.482468458931669\n",
      "\n",
      "Generation 6 - Current best internal CV score: -12.482468458931669\n",
      "\n",
      "Generation 7 - Current best internal CV score: -12.482468458931669\n",
      "\n",
      "Generation 8 - Current best internal CV score: -12.1811744957403\n",
      "\n",
      "Generation 9 - Current best internal CV score: -12.1811744957403\n",
      "\n",
      "Generation 10 - Current best internal CV score: -11.902773270748298\n",
      "\n",
      "Generation 11 - Current best internal CV score: -11.902773270748298\n",
      "\n",
      "Generation 12 - Current best internal CV score: -10.797436001440268\n",
      "\n",
      "Generation 13 - Current best internal CV score: -10.797436001440268\n",
      "\n",
      "Generation 14 - Current best internal CV score: -10.797436001440268\n",
      "\n",
      "Generation 15 - Current best internal CV score: -10.797436001440268\n",
      "\n",
      "Best pipeline: ExtraTreesRegressor(SelectFwe(input_matrix, alpha=0.009000000000000001), bootstrap=False, max_features=0.7500000000000001, min_samples_leaf=1, min_samples_split=2, n_estimators=100)\n",
      "**************************************************\n",
      "Processing PFE\n"
     ]
    },
    {
     "name": "stderr",
     "output_type": "stream",
     "text": [
      "Version 0.12.2 of tpot is outdated. Version 1.0.0 was released 4 days ago.\n"
     ]
    },
    {
     "data": {
      "application/vnd.jupyter.widget-view+json": {
       "model_id": "4128fd533210454b9fd89fd79d176e2a",
       "version_major": 2,
       "version_minor": 0
      },
      "text/plain": [
       "Optimization Progress:   0%|          | 0/640 [00:00<?, ?pipeline/s]"
      ]
     },
     "metadata": {},
     "output_type": "display_data"
    },
    {
     "name": "stdout",
     "output_type": "stream",
     "text": [
      "\n",
      "Generation 1 - Current best internal CV score: -1.0361250212564768\n",
      "\n",
      "Generation 2 - Current best internal CV score: -0.9955712501022456\n",
      "\n",
      "Generation 3 - Current best internal CV score: -0.9955712501022456\n",
      "\n",
      "Generation 4 - Current best internal CV score: -0.9746845861157594\n",
      "\n",
      "Generation 5 - Current best internal CV score: -0.9746845861157594\n",
      "\n",
      "Generation 6 - Current best internal CV score: -0.8810456940475466\n",
      "\n",
      "Generation 7 - Current best internal CV score: -0.8698270964639001\n",
      "\n",
      "Generation 8 - Current best internal CV score: -0.8698270964639001\n",
      "\n",
      "Generation 9 - Current best internal CV score: -0.860392494708081\n",
      "\n",
      "Generation 10 - Current best internal CV score: -0.860392494708081\n",
      "\n",
      "Generation 11 - Current best internal CV score: -0.860392494708081\n",
      "\n",
      "Generation 12 - Current best internal CV score: -0.860392494708081\n",
      "\n",
      "Generation 13 - Current best internal CV score: -0.860392494708081\n",
      "\n",
      "Generation 14 - Current best internal CV score: -0.860392494708081\n",
      "\n",
      "Generation 15 - Current best internal CV score: -0.860392494708081\n",
      "\n",
      "Best pipeline: ExtraTreesRegressor(ExtraTreesRegressor(ExtraTreesRegressor(PolynomialFeatures(input_matrix, degree=2, include_bias=False, interaction_only=False), bootstrap=False, max_features=0.05, min_samples_leaf=1, min_samples_split=12, n_estimators=100), bootstrap=False, max_features=0.6500000000000001, min_samples_leaf=5, min_samples_split=8, n_estimators=100), bootstrap=False, max_features=0.5, min_samples_leaf=2, min_samples_split=16, n_estimators=100)\n",
      "**************************************************\n",
      "Processing NKE\n"
     ]
    },
    {
     "name": "stderr",
     "output_type": "stream",
     "text": [
      "Version 0.12.2 of tpot is outdated. Version 1.0.0 was released 4 days ago.\n"
     ]
    },
    {
     "data": {
      "application/vnd.jupyter.widget-view+json": {
       "model_id": "b6158c032ccc4f2887aabf53ce3caa32",
       "version_major": 2,
       "version_minor": 0
      },
      "text/plain": [
       "Optimization Progress:   0%|          | 0/640 [00:00<?, ?pipeline/s]"
      ]
     },
     "metadata": {},
     "output_type": "display_data"
    },
    {
     "name": "stdout",
     "output_type": "stream",
     "text": [
      "\n",
      "Generation 1 - Current best internal CV score: -15.281352787663343\n",
      "\n",
      "Generation 2 - Current best internal CV score: -15.281352787663343\n",
      "\n",
      "Generation 3 - Current best internal CV score: -15.281352787663343\n",
      "\n",
      "Generation 4 - Current best internal CV score: -14.97812155383824\n",
      "\n",
      "Generation 5 - Current best internal CV score: -8.51664348831591\n",
      "\n",
      "Generation 6 - Current best internal CV score: -8.51664348831591\n",
      "\n",
      "Generation 7 - Current best internal CV score: -8.51664348831591\n",
      "\n",
      "Generation 8 - Current best internal CV score: -8.51664348831591\n",
      "\n",
      "Generation 9 - Current best internal CV score: -8.284677151339231\n",
      "\n",
      "Generation 10 - Current best internal CV score: -8.284677151339231\n",
      "\n",
      "Generation 11 - Current best internal CV score: -8.284677151339231\n",
      "\n",
      "Generation 12 - Current best internal CV score: -8.284677151339231\n",
      "\n",
      "Generation 13 - Current best internal CV score: -8.284677151339231\n",
      "\n",
      "Generation 14 - Current best internal CV score: -8.284677151339231\n",
      "\n",
      "Generation 15 - Current best internal CV score: -8.284677151339231\n",
      "\n",
      "Best pipeline: ExtraTreesRegressor(CombineDFs(input_matrix, AdaBoostRegressor(input_matrix, learning_rate=0.1, loss=exponential, n_estimators=100)), bootstrap=False, max_features=0.7500000000000001, min_samples_leaf=1, min_samples_split=2, n_estimators=100)\n",
      "**************************************************\n",
      "Processing CVX\n"
     ]
    },
    {
     "name": "stderr",
     "output_type": "stream",
     "text": [
      "Version 0.12.2 of tpot is outdated. Version 1.0.0 was released 4 days ago.\n"
     ]
    },
    {
     "data": {
      "application/vnd.jupyter.widget-view+json": {
       "model_id": "3cea2c2f817b4f778d94b1e75375f6e9",
       "version_major": 2,
       "version_minor": 0
      },
      "text/plain": [
       "Optimization Progress:   0%|          | 0/640 [00:00<?, ?pipeline/s]"
      ]
     },
     "metadata": {},
     "output_type": "display_data"
    },
    {
     "name": "stdout",
     "output_type": "stream",
     "text": [
      "\n",
      "Generation 1 - Current best internal CV score: -12.503405943767808\n",
      "\n",
      "Generation 2 - Current best internal CV score: -12.503405943767808\n",
      "\n",
      "Generation 3 - Current best internal CV score: -12.503405943767808\n",
      "\n",
      "Generation 4 - Current best internal CV score: -12.503405943767808\n",
      "\n",
      "Generation 5 - Current best internal CV score: -11.884962412047368\n",
      "\n",
      "Generation 6 - Current best internal CV score: -10.906852409482692\n",
      "\n",
      "Generation 7 - Current best internal CV score: -10.906852409482692\n",
      "\n",
      "Generation 8 - Current best internal CV score: -10.690197121401782\n",
      "\n",
      "Generation 9 - Current best internal CV score: -10.690197121401782\n",
      "\n",
      "Generation 10 - Current best internal CV score: -10.690197121401782\n",
      "\n",
      "Generation 11 - Current best internal CV score: -10.200341883368674\n",
      "\n",
      "Generation 12 - Current best internal CV score: -10.200341883368674\n",
      "\n",
      "Generation 13 - Current best internal CV score: -10.200341883368674\n",
      "\n",
      "Generation 14 - Current best internal CV score: -10.15344364718401\n",
      "\n",
      "Generation 15 - Current best internal CV score: -10.150049909968384\n",
      "\n",
      "Best pipeline: ExtraTreesRegressor(SelectFwe(CombineDFs(input_matrix, CombineDFs(input_matrix, input_matrix)), alpha=0.033), bootstrap=False, max_features=0.7500000000000001, min_samples_leaf=1, min_samples_split=3, n_estimators=100)\n",
      "**************************************************\n",
      "Processing GS\n"
     ]
    },
    {
     "name": "stderr",
     "output_type": "stream",
     "text": [
      "Version 0.12.2 of tpot is outdated. Version 1.0.0 was released 4 days ago.\n"
     ]
    },
    {
     "data": {
      "application/vnd.jupyter.widget-view+json": {
       "model_id": "f8b0d46cd2b8455b94cf6d5a509dcd50",
       "version_major": 2,
       "version_minor": 0
      },
      "text/plain": [
       "Optimization Progress:   0%|          | 0/640 [00:00<?, ?pipeline/s]"
      ]
     },
     "metadata": {},
     "output_type": "display_data"
    },
    {
     "name": "stdout",
     "output_type": "stream",
     "text": [
      "\n",
      "Generation 1 - Current best internal CV score: -58.595378697755734\n",
      "\n",
      "Generation 2 - Current best internal CV score: -58.595378697755734\n",
      "\n",
      "Generation 3 - Current best internal CV score: -58.595378697755734\n",
      "\n",
      "Generation 4 - Current best internal CV score: -58.595378697755734\n",
      "\n",
      "Generation 5 - Current best internal CV score: -58.595378697755734\n",
      "\n",
      "Generation 6 - Current best internal CV score: -57.84185026218696\n",
      "\n",
      "Generation 7 - Current best internal CV score: -51.07304596628214\n",
      "\n",
      "Generation 8 - Current best internal CV score: -50.894010866455176\n",
      "\n",
      "Generation 9 - Current best internal CV score: -50.894010866455176\n",
      "\n",
      "Generation 10 - Current best internal CV score: -50.894010866455176\n",
      "\n",
      "Generation 11 - Current best internal CV score: -50.894010866455176\n",
      "\n",
      "Generation 12 - Current best internal CV score: -48.67705823316888\n",
      "\n",
      "Generation 13 - Current best internal CV score: -48.65221781094242\n",
      "\n",
      "Generation 14 - Current best internal CV score: -48.31180881841486\n",
      "\n",
      "Generation 15 - Current best internal CV score: -48.31180881841486\n",
      "\n",
      "Best pipeline: ExtraTreesRegressor(SelectPercentile(CombineDFs(input_matrix, input_matrix), percentile=63), bootstrap=False, max_features=0.9500000000000001, min_samples_leaf=1, min_samples_split=2, n_estimators=100)\n",
      "**************************************************\n",
      "Processing JNJ\n"
     ]
    },
    {
     "name": "stderr",
     "output_type": "stream",
     "text": [
      "Version 0.12.2 of tpot is outdated. Version 1.0.0 was released 4 days ago.\n"
     ]
    },
    {
     "data": {
      "application/vnd.jupyter.widget-view+json": {
       "model_id": "e6e0ec52bdf249c78c336857997670ab",
       "version_major": 2,
       "version_minor": 0
      },
      "text/plain": [
       "Optimization Progress:   0%|          | 0/640 [00:00<?, ?pipeline/s]"
      ]
     },
     "metadata": {},
     "output_type": "display_data"
    },
    {
     "name": "stdout",
     "output_type": "stream",
     "text": [
      "\n",
      "Generation 1 - Current best internal CV score: -8.267344200094719\n",
      "\n",
      "Generation 2 - Current best internal CV score: -6.86696292682593\n",
      "\n",
      "Generation 3 - Current best internal CV score: -6.86696292682593\n",
      "\n",
      "Generation 4 - Current best internal CV score: -6.86696292682593\n",
      "\n",
      "Generation 5 - Current best internal CV score: -6.793279558047101\n",
      "\n",
      "Generation 6 - Current best internal CV score: -6.793279558047101\n",
      "\n",
      "Generation 7 - Current best internal CV score: -6.7816085286762995\n",
      "\n",
      "Generation 8 - Current best internal CV score: -6.686041087850947\n",
      "\n",
      "Generation 9 - Current best internal CV score: -5.9923946506185874\n",
      "\n",
      "Generation 10 - Current best internal CV score: -5.9923946506185874\n",
      "\n",
      "Generation 11 - Current best internal CV score: -5.9923946506185874\n",
      "\n",
      "Generation 12 - Current best internal CV score: -5.88008490425983\n",
      "\n",
      "Generation 13 - Current best internal CV score: -5.862672577923287\n",
      "\n",
      "Generation 14 - Current best internal CV score: -5.842526643496321\n",
      "\n",
      "Generation 15 - Current best internal CV score: -5.731033894702525\n",
      "\n",
      "Best pipeline: ExtraTreesRegressor(SelectPercentile(input_matrix, percentile=61), bootstrap=False, max_features=0.9000000000000001, min_samples_leaf=1, min_samples_split=2, n_estimators=100)\n",
      "**************************************************\n",
      "Processing AAPL\n"
     ]
    },
    {
     "name": "stderr",
     "output_type": "stream",
     "text": [
      "Version 0.12.2 of tpot is outdated. Version 1.0.0 was released 4 days ago.\n"
     ]
    },
    {
     "data": {
      "application/vnd.jupyter.widget-view+json": {
       "model_id": "15adba82f2c4418086c683944a592684",
       "version_major": 2,
       "version_minor": 0
      },
      "text/plain": [
       "Optimization Progress:   0%|          | 0/640 [00:00<?, ?pipeline/s]"
      ]
     },
     "metadata": {},
     "output_type": "display_data"
    },
    {
     "name": "stdout",
     "output_type": "stream",
     "text": [
      "\n",
      "Generation 1 - Current best internal CV score: -43.67932092697258\n",
      "\n",
      "Generation 2 - Current best internal CV score: -43.67932092697258\n",
      "\n",
      "Generation 3 - Current best internal CV score: -43.67932092697258\n",
      "\n",
      "Generation 4 - Current best internal CV score: -40.29295860151099\n",
      "\n",
      "Generation 5 - Current best internal CV score: -40.29295860151099\n",
      "\n",
      "Generation 6 - Current best internal CV score: -39.99097283549515\n",
      "\n",
      "Generation 7 - Current best internal CV score: -34.82810410142747\n",
      "\n",
      "Generation 8 - Current best internal CV score: -34.82810410142747\n",
      "\n",
      "Generation 9 - Current best internal CV score: -32.657408885944236\n",
      "\n",
      "Generation 10 - Current best internal CV score: -32.657408885944236\n",
      "\n",
      "Generation 11 - Current best internal CV score: -29.572904693544796\n",
      "\n",
      "Generation 12 - Current best internal CV score: -29.572904693544796\n",
      "\n",
      "Generation 13 - Current best internal CV score: -29.572904693544796\n",
      "\n",
      "Generation 14 - Current best internal CV score: -29.572904693544796\n",
      "\n",
      "Generation 15 - Current best internal CV score: -29.572904693544796\n",
      "\n",
      "Best pipeline: ExtraTreesRegressor(SelectFwe(input_matrix, alpha=0.049), bootstrap=False, max_features=0.7500000000000001, min_samples_leaf=1, min_samples_split=2, n_estimators=100)\n",
      "**************************************************\n",
      "Processing HD\n"
     ]
    },
    {
     "name": "stderr",
     "output_type": "stream",
     "text": [
      "Version 0.12.2 of tpot is outdated. Version 1.0.0 was released 4 days ago.\n"
     ]
    },
    {
     "data": {
      "application/vnd.jupyter.widget-view+json": {
       "model_id": "e51321eb7c814ad2a27427cf3928d2f5",
       "version_major": 2,
       "version_minor": 0
      },
      "text/plain": [
       "Optimization Progress:   0%|          | 0/640 [00:00<?, ?pipeline/s]"
      ]
     },
     "metadata": {},
     "output_type": "display_data"
    },
    {
     "name": "stdout",
     "output_type": "stream",
     "text": [
      "\n",
      "Generation 1 - Current best internal CV score: -25.71809724019867\n",
      "\n",
      "Generation 2 - Current best internal CV score: -25.71809724019867\n",
      "\n",
      "Generation 3 - Current best internal CV score: -25.71809724019867\n",
      "\n",
      "Generation 4 - Current best internal CV score: -25.51977268629762\n",
      "\n",
      "Generation 5 - Current best internal CV score: -20.013530315749556\n",
      "\n",
      "Generation 6 - Current best internal CV score: -20.013530315749556\n",
      "\n",
      "Generation 7 - Current best internal CV score: -19.992429265877114\n",
      "\n",
      "Generation 8 - Current best internal CV score: -19.992429265877114\n",
      "\n",
      "Generation 9 - Current best internal CV score: -19.969728100231073\n",
      "\n",
      "Generation 10 - Current best internal CV score: -19.969728100231073\n",
      "\n",
      "Generation 11 - Current best internal CV score: -19.969728100231073\n",
      "\n",
      "Generation 12 - Current best internal CV score: -18.88633476248086\n",
      "\n",
      "Generation 13 - Current best internal CV score: -18.026979522839866\n",
      "\n",
      "Generation 14 - Current best internal CV score: -18.026979522839866\n",
      "\n",
      "Generation 15 - Current best internal CV score: -18.026979522839866\n",
      "\n",
      "Best pipeline: ExtraTreesRegressor(CombineDFs(ZeroCount(SelectFwe(input_matrix, alpha=0.049)), SelectFwe(input_matrix, alpha=0.049)), bootstrap=False, max_features=0.7500000000000001, min_samples_leaf=1, min_samples_split=2, n_estimators=100)\n",
      "**************************************************\n",
      "Processing MSFT\n"
     ]
    },
    {
     "name": "stderr",
     "output_type": "stream",
     "text": [
      "Version 0.12.2 of tpot is outdated. Version 1.0.0 was released 4 days ago.\n"
     ]
    },
    {
     "data": {
      "application/vnd.jupyter.widget-view+json": {
       "model_id": "53c68fbed5e643179c9fff76b0444ce1",
       "version_major": 2,
       "version_minor": 0
      },
      "text/plain": [
       "Optimization Progress:   0%|          | 0/640 [00:00<?, ?pipeline/s]"
      ]
     },
     "metadata": {},
     "output_type": "display_data"
    },
    {
     "name": "stdout",
     "output_type": "stream",
     "text": [
      "\n",
      "Generation 1 - Current best internal CV score: -8.10681207509023\n",
      "\n",
      "Generation 2 - Current best internal CV score: -7.919545658410257\n",
      "\n",
      "Generation 3 - Current best internal CV score: -7.157721330559961\n",
      "\n",
      "Generation 4 - Current best internal CV score: -7.157721330559961\n",
      "\n",
      "Generation 5 - Current best internal CV score: -6.6665694677236305\n",
      "\n",
      "Generation 6 - Current best internal CV score: -6.6665694677236305\n",
      "\n",
      "Generation 7 - Current best internal CV score: -6.2705749184007\n",
      "\n",
      "Generation 8 - Current best internal CV score: -6.2705749184007\n",
      "\n",
      "Generation 9 - Current best internal CV score: -6.2705749184007\n",
      "\n",
      "Generation 10 - Current best internal CV score: -6.258653201732863\n",
      "\n",
      "Generation 11 - Current best internal CV score: -6.258653201732863\n",
      "\n",
      "Generation 12 - Current best internal CV score: -6.168953288787881\n",
      "\n",
      "Generation 13 - Current best internal CV score: -5.895071088517765\n",
      "\n",
      "Generation 14 - Current best internal CV score: -5.621706761682485\n",
      "\n",
      "Generation 15 - Current best internal CV score: -5.621706761682485\n",
      "\n",
      "Best pipeline: ExtraTreesRegressor(CombineDFs(OneHotEncoder(Normalizer(MinMaxScaler(SelectFwe(input_matrix, alpha=0.009000000000000001)), norm=max), minimum_fraction=0.2, sparse=False, threshold=10), input_matrix), bootstrap=False, max_features=0.9000000000000001, min_samples_leaf=1, min_samples_split=2, n_estimators=100)\n",
      "**************************************************\n",
      "Processing VZ\n"
     ]
    },
    {
     "name": "stderr",
     "output_type": "stream",
     "text": [
      "Version 0.12.2 of tpot is outdated. Version 1.0.0 was released 4 days ago.\n"
     ]
    },
    {
     "data": {
      "application/vnd.jupyter.widget-view+json": {
       "model_id": "660aeaef29234ca591a56deb94d45710",
       "version_major": 2,
       "version_minor": 0
      },
      "text/plain": [
       "Optimization Progress:   0%|          | 0/640 [00:00<?, ?pipeline/s]"
      ]
     },
     "metadata": {},
     "output_type": "display_data"
    },
    {
     "name": "stdout",
     "output_type": "stream",
     "text": [
      "\n",
      "Generation 1 - Current best internal CV score: -1.6893120908787786\n",
      "\n",
      "Generation 2 - Current best internal CV score: -1.6893120908787786\n",
      "\n",
      "Generation 3 - Current best internal CV score: -1.6893120908787786\n",
      "\n",
      "Generation 4 - Current best internal CV score: -1.6893120908787786\n",
      "\n",
      "Generation 5 - Current best internal CV score: -1.6893120908787786\n",
      "\n",
      "Generation 6 - Current best internal CV score: -1.6893120908787786\n",
      "\n",
      "The optimized pipeline was not improved after evaluating 5 more generations. Will end the optimization process.\n",
      "\n",
      "TPOT closed prematurely. Will use the current best pipeline.\n",
      "\n",
      "Best pipeline: ExtraTreesRegressor(PolynomialFeatures(input_matrix, degree=2, include_bias=False, interaction_only=False), bootstrap=False, max_features=0.5, min_samples_leaf=2, min_samples_split=16, n_estimators=100)\n",
      "**************************************************\n",
      "Processing CSCO\n"
     ]
    },
    {
     "name": "stderr",
     "output_type": "stream",
     "text": [
      "Version 0.12.2 of tpot is outdated. Version 1.0.0 was released 4 days ago.\n"
     ]
    },
    {
     "data": {
      "application/vnd.jupyter.widget-view+json": {
       "model_id": "7a7a7e28dee64924acb41d848e7f0b06",
       "version_major": 2,
       "version_minor": 0
      },
      "text/plain": [
       "Optimization Progress:   0%|          | 0/640 [00:00<?, ?pipeline/s]"
      ]
     },
     "metadata": {},
     "output_type": "display_data"
    },
    {
     "name": "stdout",
     "output_type": "stream",
     "text": [
      "\n",
      "Generation 1 - Current best internal CV score: -1.5118349947141354\n",
      "\n",
      "Generation 2 - Current best internal CV score: -1.4143326250593318\n",
      "\n",
      "Generation 3 - Current best internal CV score: -1.4143326250593318\n",
      "\n",
      "Generation 4 - Current best internal CV score: -1.3734577402483832\n",
      "\n",
      "Generation 5 - Current best internal CV score: -1.3734577402483832\n",
      "\n",
      "Generation 6 - Current best internal CV score: -1.3483636453039336\n",
      "\n",
      "Generation 7 - Current best internal CV score: -1.2931497698120493\n",
      "\n",
      "Generation 8 - Current best internal CV score: -1.2931497698120493\n",
      "\n",
      "Generation 9 - Current best internal CV score: -1.275982313834577\n",
      "\n",
      "Generation 10 - Current best internal CV score: -1.275982313834577\n",
      "\n",
      "Generation 11 - Current best internal CV score: -1.275982313834577\n",
      "\n",
      "Generation 12 - Current best internal CV score: -1.2572941937399773\n",
      "\n",
      "Generation 13 - Current best internal CV score: -1.2566540947984444\n",
      "\n",
      "Generation 14 - Current best internal CV score: -1.2566540947984444\n",
      "\n",
      "Generation 15 - Current best internal CV score: -1.242118638202975\n",
      "\n",
      "Best pipeline: ExtraTreesRegressor(SelectFwe(PolynomialFeatures(SelectFwe(input_matrix, alpha=0.005), degree=2, include_bias=False, interaction_only=False), alpha=0.049), bootstrap=False, max_features=0.5, min_samples_leaf=2, min_samples_split=2, n_estimators=100)\n",
      "**************************************************\n",
      "Processing AXP\n"
     ]
    },
    {
     "name": "stderr",
     "output_type": "stream",
     "text": [
      "Version 0.12.2 of tpot is outdated. Version 1.0.0 was released 4 days ago.\n"
     ]
    },
    {
     "data": {
      "application/vnd.jupyter.widget-view+json": {
       "model_id": "fa2aaad68b134ecf9658428f2ee69c16",
       "version_major": 2,
       "version_minor": 0
      },
      "text/plain": [
       "Optimization Progress:   0%|          | 0/640 [00:00<?, ?pipeline/s]"
      ]
     },
     "metadata": {},
     "output_type": "display_data"
    },
    {
     "name": "stdout",
     "output_type": "stream",
     "text": [
      "\n",
      "Generation 1 - Current best internal CV score: -8.421370711083048\n",
      "\n",
      "Generation 2 - Current best internal CV score: -8.421370711083048\n",
      "\n",
      "Generation 3 - Current best internal CV score: -8.421370711083048\n",
      "\n",
      "Generation 4 - Current best internal CV score: -8.421370711083048\n",
      "\n",
      "Generation 5 - Current best internal CV score: -7.374902355232623\n",
      "\n",
      "Generation 6 - Current best internal CV score: -6.170187432048358\n",
      "\n",
      "Generation 7 - Current best internal CV score: -6.170187432048358\n",
      "\n",
      "Generation 8 - Current best internal CV score: -6.170187432048358\n",
      "\n",
      "Generation 9 - Current best internal CV score: -6.170187432048358\n",
      "\n",
      "Generation 10 - Current best internal CV score: -6.170187432048358\n",
      "\n",
      "Generation 11 - Current best internal CV score: -6.170187432048358\n",
      "\n",
      "The optimized pipeline was not improved after evaluating 5 more generations. Will end the optimization process.\n",
      "\n",
      "TPOT closed prematurely. Will use the current best pipeline.\n",
      "\n",
      "Best pipeline: ExtraTreesRegressor(input_matrix, bootstrap=False, max_features=0.7500000000000001, min_samples_leaf=1, min_samples_split=2, n_estimators=100)\n",
      "**************************************************\n",
      "Processing AMGN\n"
     ]
    },
    {
     "name": "stderr",
     "output_type": "stream",
     "text": [
      "Version 0.12.2 of tpot is outdated. Version 1.0.0 was released 4 days ago.\n"
     ]
    },
    {
     "data": {
      "application/vnd.jupyter.widget-view+json": {
       "model_id": "d8de5cb76edb45cfaef03921f4a2d3c9",
       "version_major": 2,
       "version_minor": 0
      },
      "text/plain": [
       "Optimization Progress:   0%|          | 0/640 [00:00<?, ?pipeline/s]"
      ]
     },
     "metadata": {},
     "output_type": "display_data"
    },
    {
     "name": "stdout",
     "output_type": "stream",
     "text": [
      "\n",
      "Generation 1 - Current best internal CV score: -34.98683143225681\n",
      "\n",
      "Generation 2 - Current best internal CV score: -34.98683143225681\n",
      "\n",
      "Generation 3 - Current best internal CV score: -34.98683143225681\n",
      "\n",
      "Generation 4 - Current best internal CV score: -34.393666234438044\n",
      "\n",
      "Generation 5 - Current best internal CV score: -29.92438843515931\n",
      "\n",
      "Generation 6 - Current best internal CV score: -29.749239935600706\n",
      "\n",
      "Generation 7 - Current best internal CV score: -29.749239935600706\n",
      "\n",
      "Generation 8 - Current best internal CV score: -28.833572998431315\n",
      "\n",
      "Generation 9 - Current best internal CV score: -28.198082587028544\n",
      "\n",
      "Generation 10 - Current best internal CV score: -28.198082587028544\n",
      "\n",
      "Generation 11 - Current best internal CV score: -28.198082587028544\n",
      "\n",
      "Generation 12 - Current best internal CV score: -28.198082587028544\n",
      "\n",
      "Generation 13 - Current best internal CV score: -27.51096041973032\n",
      "\n",
      "Generation 14 - Current best internal CV score: -27.42001217104316\n",
      "\n",
      "Generation 15 - Current best internal CV score: -27.42001217104316\n",
      "\n",
      "Best pipeline: ExtraTreesRegressor(SelectPercentile(PolynomialFeatures(input_matrix, degree=2, include_bias=False, interaction_only=False), percentile=56), bootstrap=False, max_features=0.15000000000000002, min_samples_leaf=2, min_samples_split=4, n_estimators=100)\n",
      "**************************************************\n",
      "Processing MRK\n"
     ]
    },
    {
     "name": "stderr",
     "output_type": "stream",
     "text": [
      "Version 0.12.2 of tpot is outdated. Version 1.0.0 was released 4 days ago.\n"
     ]
    },
    {
     "data": {
      "application/vnd.jupyter.widget-view+json": {
       "model_id": "a2744b4fcf824a6da203c060590d31c7",
       "version_major": 2,
       "version_minor": 0
      },
      "text/plain": [
       "Optimization Progress:   0%|          | 0/640 [00:00<?, ?pipeline/s]"
      ]
     },
     "metadata": {},
     "output_type": "display_data"
    },
    {
     "name": "stdout",
     "output_type": "stream",
     "text": [
      "\n",
      "Generation 1 - Current best internal CV score: -2.771483457284109\n",
      "\n",
      "Generation 2 - Current best internal CV score: -2.5855967709348646\n",
      "\n",
      "Generation 3 - Current best internal CV score: -2.1836852154943354\n",
      "\n",
      "Generation 4 - Current best internal CV score: -2.115603294880745\n",
      "\n",
      "Generation 5 - Current best internal CV score: -2.115603294880745\n",
      "\n",
      "Generation 6 - Current best internal CV score: -2.08798380382214\n",
      "\n",
      "Generation 7 - Current best internal CV score: -2.08798380382214\n",
      "\n",
      "Generation 8 - Current best internal CV score: -2.0510941951338757\n",
      "\n",
      "Generation 9 - Current best internal CV score: -2.0510941951338757\n",
      "\n",
      "Generation 10 - Current best internal CV score: -2.0362735840374437\n",
      "\n",
      "Generation 11 - Current best internal CV score: -2.0362735840374437\n",
      "\n",
      "Generation 12 - Current best internal CV score: -2.0263062685312208\n",
      "\n",
      "Generation 13 - Current best internal CV score: -1.975628907022395\n",
      "\n",
      "Generation 14 - Current best internal CV score: -1.975628907022395\n",
      "\n",
      "Generation 15 - Current best internal CV score: -1.975628907022395\n",
      "\n",
      "Best pipeline: ExtraTreesRegressor(SelectFwe(input_matrix, alpha=0.039), bootstrap=False, max_features=0.9500000000000001, min_samples_leaf=1, min_samples_split=2, n_estimators=100)\n",
      "**************************************************\n",
      "Processing JPM\n"
     ]
    },
    {
     "name": "stderr",
     "output_type": "stream",
     "text": [
      "Version 0.12.2 of tpot is outdated. Version 1.0.0 was released 4 days ago.\n"
     ]
    },
    {
     "data": {
      "application/vnd.jupyter.widget-view+json": {
       "model_id": "cfd5269bdc8948bf943e37066046aca5",
       "version_major": 2,
       "version_minor": 0
      },
      "text/plain": [
       "Optimization Progress:   0%|          | 0/640 [00:00<?, ?pipeline/s]"
      ]
     },
     "metadata": {},
     "output_type": "display_data"
    },
    {
     "name": "stdout",
     "output_type": "stream",
     "text": [
      "\n",
      "Generation 1 - Current best internal CV score: -10.33569727640604\n",
      "\n",
      "Generation 2 - Current best internal CV score: -10.33569727640604\n",
      "\n",
      "Generation 3 - Current best internal CV score: -8.701821777921507\n",
      "\n",
      "Generation 4 - Current best internal CV score: -8.701821777921507\n",
      "\n",
      "Generation 5 - Current best internal CV score: -8.589715672027314\n",
      "\n",
      "Generation 6 - Current best internal CV score: -8.063914720446453\n",
      "\n",
      "Generation 7 - Current best internal CV score: -8.063914720446453\n",
      "\n",
      "Generation 8 - Current best internal CV score: -8.005356696595886\n",
      "\n",
      "Generation 9 - Current best internal CV score: -8.005356696595886\n",
      "\n",
      "Generation 10 - Current best internal CV score: -8.005356696595886\n",
      "\n",
      "Generation 11 - Current best internal CV score: -7.899451822003591\n",
      "\n",
      "Generation 12 - Current best internal CV score: -7.6991584673916815\n",
      "\n",
      "Generation 13 - Current best internal CV score: -7.6991584673916815\n",
      "\n",
      "Generation 14 - Current best internal CV score: -7.6991584673916815\n",
      "\n",
      "Generation 15 - Current best internal CV score: -7.088242366951748\n",
      "\n",
      "Best pipeline: ExtraTreesRegressor(VarianceThreshold(CombineDFs(input_matrix, Binarizer(Binarizer(input_matrix, threshold=0.75), threshold=0.30000000000000004)), threshold=0.1), bootstrap=False, max_features=0.7500000000000001, min_samples_leaf=1, min_samples_split=2, n_estimators=100)\n",
      "**************************************************\n",
      "Processing WMT\n"
     ]
    },
    {
     "name": "stderr",
     "output_type": "stream",
     "text": [
      "Version 0.12.2 of tpot is outdated. Version 1.0.0 was released 4 days ago.\n"
     ]
    },
    {
     "data": {
      "application/vnd.jupyter.widget-view+json": {
       "model_id": "b907dfcc5424444a921f1b45dae055e1",
       "version_major": 2,
       "version_minor": 0
      },
      "text/plain": [
       "Optimization Progress:   0%|          | 0/640 [00:00<?, ?pipeline/s]"
      ]
     },
     "metadata": {},
     "output_type": "display_data"
    },
    {
     "name": "stdout",
     "output_type": "stream",
     "text": [
      "\n",
      "Generation 1 - Current best internal CV score: -4.540886463706195\n",
      "\n",
      "Generation 2 - Current best internal CV score: -4.432959167704119\n",
      "\n",
      "Generation 3 - Current best internal CV score: -4.432938043293921\n",
      "\n",
      "Generation 4 - Current best internal CV score: -4.4236818170159315\n",
      "\n",
      "Generation 5 - Current best internal CV score: -3.9416914025891385\n",
      "\n",
      "Generation 6 - Current best internal CV score: -3.6971828781122413\n",
      "\n",
      "Generation 7 - Current best internal CV score: -3.6047094746266866\n",
      "\n",
      "Generation 8 - Current best internal CV score: -3.5339421508448594\n",
      "\n",
      "Generation 9 - Current best internal CV score: -3.511502681911842\n",
      "\n",
      "Generation 10 - Current best internal CV score: -3.3880473822654857\n",
      "\n",
      "Generation 11 - Current best internal CV score: -3.3880473822654857\n",
      "\n",
      "Generation 12 - Current best internal CV score: -3.3880473822654857\n",
      "\n",
      "Generation 13 - Current best internal CV score: -3.3880473822654857\n",
      "\n",
      "Generation 14 - Current best internal CV score: -3.3422716253002753\n",
      "\n",
      "Generation 15 - Current best internal CV score: -3.3422716253002753\n",
      "\n",
      "Best pipeline: ExtraTreesRegressor(RidgeCV(SelectPercentile(PolynomialFeatures(input_matrix, degree=2, include_bias=False, interaction_only=False), percentile=26)), bootstrap=False, max_features=0.3, min_samples_leaf=1, min_samples_split=2, n_estimators=100)\n",
      "**************************************************\n",
      "Processing CRM\n"
     ]
    },
    {
     "name": "stderr",
     "output_type": "stream",
     "text": [
      "Version 0.12.2 of tpot is outdated. Version 1.0.0 was released 4 days ago.\n"
     ]
    },
    {
     "data": {
      "application/vnd.jupyter.widget-view+json": {
       "model_id": "a780c33d821c48a7bec4934e4ae33398",
       "version_major": 2,
       "version_minor": 0
      },
      "text/plain": [
       "Optimization Progress:   0%|          | 0/640 [00:00<?, ?pipeline/s]"
      ]
     },
     "metadata": {},
     "output_type": "display_data"
    },
    {
     "name": "stdout",
     "output_type": "stream",
     "text": [
      "\n",
      "Generation 1 - Current best internal CV score: -24.662362819716027\n",
      "\n",
      "Generation 2 - Current best internal CV score: -24.662362819716027\n",
      "\n",
      "Generation 3 - Current best internal CV score: -24.661004661471072\n",
      "\n",
      "Generation 4 - Current best internal CV score: -24.661004661471072\n",
      "\n",
      "Generation 5 - Current best internal CV score: -23.822604341982505\n",
      "\n",
      "Generation 6 - Current best internal CV score: -21.1309331516066\n",
      "\n",
      "Generation 7 - Current best internal CV score: -21.1309331516066\n",
      "\n",
      "Generation 8 - Current best internal CV score: -20.82536296006682\n",
      "\n",
      "Generation 9 - Current best internal CV score: -19.816741360911212\n",
      "\n",
      "Generation 10 - Current best internal CV score: -19.754351747799053\n",
      "\n",
      "Generation 11 - Current best internal CV score: -19.480925256920887\n",
      "\n",
      "Generation 12 - Current best internal CV score: -19.480925256920887\n",
      "\n",
      "Generation 13 - Current best internal CV score: -19.480925256920887\n",
      "\n",
      "Generation 14 - Current best internal CV score: -19.480925256920887\n",
      "\n",
      "Generation 15 - Current best internal CV score: -18.21224309493518\n",
      "\n",
      "Best pipeline: ExtraTreesRegressor(SelectPercentile(CombineDFs(input_matrix, CombineDFs(input_matrix, input_matrix)), percentile=62), bootstrap=False, max_features=0.8, min_samples_leaf=1, min_samples_split=3, n_estimators=100)\n",
      "**************************************************\n",
      "Processing NVDA\n"
     ]
    },
    {
     "name": "stderr",
     "output_type": "stream",
     "text": [
      "Version 0.12.2 of tpot is outdated. Version 1.0.0 was released 4 days ago.\n"
     ]
    },
    {
     "data": {
      "application/vnd.jupyter.widget-view+json": {
       "model_id": "1b4dd512438c4db08aa00c2a15f97fa9",
       "version_major": 2,
       "version_minor": 0
      },
      "text/plain": [
       "Optimization Progress:   0%|          | 0/640 [00:00<?, ?pipeline/s]"
      ]
     },
     "metadata": {},
     "output_type": "display_data"
    },
    {
     "name": "stdout",
     "output_type": "stream",
     "text": [
      "\n",
      "Generation 1 - Current best internal CV score: -102.95354912760611\n",
      "\n",
      "Generation 2 - Current best internal CV score: -96.18618773613406\n",
      "\n",
      "Generation 3 - Current best internal CV score: -90.47702083546986\n",
      "\n",
      "Generation 4 - Current best internal CV score: -82.4945754285975\n",
      "\n",
      "Generation 5 - Current best internal CV score: -79.62885529641197\n",
      "\n",
      "Generation 6 - Current best internal CV score: -72.04764105679591\n",
      "\n",
      "Generation 7 - Current best internal CV score: -72.04764105679591\n",
      "\n",
      "Generation 8 - Current best internal CV score: -70.52397777336807\n",
      "\n",
      "Generation 9 - Current best internal CV score: -70.25383757113407\n",
      "\n",
      "Generation 10 - Current best internal CV score: -69.30764263835411\n",
      "\n",
      "Generation 11 - Current best internal CV score: -67.8199235717237\n",
      "\n",
      "Generation 12 - Current best internal CV score: -67.8199235717237\n",
      "\n",
      "Generation 13 - Current best internal CV score: -67.47679282227176\n",
      "\n",
      "Generation 14 - Current best internal CV score: -67.4516423482381\n",
      "\n",
      "Generation 15 - Current best internal CV score: -67.4516423482381\n",
      "\n",
      "Best pipeline: ExtraTreesRegressor(SelectFwe(ElasticNetCV(ElasticNetCV(input_matrix, l1_ratio=0.5, tol=0.001), l1_ratio=0.25, tol=0.1), alpha=0.008), bootstrap=False, max_features=0.7500000000000001, min_samples_leaf=1, min_samples_split=2, n_estimators=100)\n",
      "**************************************************\n",
      "Processing V\n"
     ]
    },
    {
     "name": "stderr",
     "output_type": "stream",
     "text": [
      "Version 0.12.2 of tpot is outdated. Version 1.0.0 was released 4 days ago.\n"
     ]
    },
    {
     "data": {
      "application/vnd.jupyter.widget-view+json": {
       "model_id": "1610f8533bba40b4937d9b2adcb32f88",
       "version_major": 2,
       "version_minor": 0
      },
      "text/plain": [
       "Optimization Progress:   0%|          | 0/640 [00:00<?, ?pipeline/s]"
      ]
     },
     "metadata": {},
     "output_type": "display_data"
    },
    {
     "name": "stdout",
     "output_type": "stream",
     "text": [
      "\n",
      "Generation 1 - Current best internal CV score: -63.03711847298871\n",
      "\n",
      "Generation 2 - Current best internal CV score: -63.03711847298871\n",
      "\n",
      "Generation 3 - Current best internal CV score: -62.37872531676178\n",
      "\n",
      "Generation 4 - Current best internal CV score: -57.49138609766517\n",
      "\n",
      "Generation 5 - Current best internal CV score: -57.491125720163595\n",
      "\n",
      "Generation 6 - Current best internal CV score: -52.283874561937296\n",
      "\n",
      "Generation 7 - Current best internal CV score: -49.325571796555934\n",
      "\n",
      "Generation 8 - Current best internal CV score: -49.325571796555934\n",
      "\n",
      "Generation 9 - Current best internal CV score: -49.325571796555934\n",
      "\n",
      "Generation 10 - Current best internal CV score: -48.06838507820335\n",
      "\n",
      "Generation 11 - Current best internal CV score: -46.28665629261432\n",
      "\n",
      "Generation 12 - Current best internal CV score: -42.82408944735043\n",
      "\n",
      "Generation 13 - Current best internal CV score: -42.82408944735043\n",
      "\n",
      "Generation 14 - Current best internal CV score: -42.82408944735043\n",
      "\n",
      "Generation 15 - Current best internal CV score: -41.43144866047945\n",
      "\n",
      "Best pipeline: ExtraTreesRegressor(CombineDFs(OneHotEncoder(AdaBoostRegressor(input_matrix, learning_rate=0.1, loss=linear, n_estimators=100), minimum_fraction=0.1, sparse=False, threshold=10), input_matrix), bootstrap=False, max_features=0.5, min_samples_leaf=1, min_samples_split=2, n_estimators=100)\n",
      "**************************************************\n",
      "Processing CAT\n"
     ]
    },
    {
     "name": "stderr",
     "output_type": "stream",
     "text": [
      "Version 0.12.2 of tpot is outdated. Version 1.0.0 was released 4 days ago.\n"
     ]
    },
    {
     "data": {
      "application/vnd.jupyter.widget-view+json": {
       "model_id": "08d74b7ac7d74acba11f3bbf3c2ed623",
       "version_major": 2,
       "version_minor": 0
      },
      "text/plain": [
       "Optimization Progress:   0%|          | 0/640 [00:00<?, ?pipeline/s]"
      ]
     },
     "metadata": {},
     "output_type": "display_data"
    },
    {
     "name": "stdout",
     "output_type": "stream",
     "text": [
      "\n",
      "Generation 1 - Current best internal CV score: -27.084606415514003\n",
      "\n",
      "Generation 2 - Current best internal CV score: -27.084606415514003\n",
      "\n",
      "Generation 3 - Current best internal CV score: -27.084606415514003\n",
      "\n",
      "Generation 4 - Current best internal CV score: -25.60945103646646\n",
      "\n",
      "Generation 5 - Current best internal CV score: -25.60945103646646\n",
      "\n",
      "Generation 6 - Current best internal CV score: -23.221802952164545\n",
      "\n",
      "Generation 7 - Current best internal CV score: -23.221802952164545\n",
      "\n",
      "Generation 8 - Current best internal CV score: -22.697840773659323\n",
      "\n",
      "Generation 9 - Current best internal CV score: -22.24634755908758\n",
      "\n",
      "Generation 10 - Current best internal CV score: -22.24634755908758\n",
      "\n",
      "Generation 11 - Current best internal CV score: -22.22657184246964\n",
      "\n",
      "Generation 12 - Current best internal CV score: -21.898590471309518\n",
      "\n",
      "Generation 13 - Current best internal CV score: -21.898590471309518\n",
      "\n",
      "Generation 14 - Current best internal CV score: -21.898590471309518\n",
      "\n",
      "Generation 15 - Current best internal CV score: -20.732815771237263\n",
      "\n",
      "Best pipeline: ExtraTreesRegressor(SelectFwe(LinearSVR(input_matrix, C=5.0, dual=True, epsilon=0.0001, loss=squared_epsilon_insensitive, tol=0.001), alpha=0.02), bootstrap=False, max_features=0.7500000000000001, min_samples_leaf=1, min_samples_split=2, n_estimators=100)\n",
      "**************************************************\n",
      "Processing DIS\n"
     ]
    },
    {
     "name": "stderr",
     "output_type": "stream",
     "text": [
      "Version 0.12.2 of tpot is outdated. Version 1.0.0 was released 4 days ago.\n"
     ]
    },
    {
     "data": {
      "application/vnd.jupyter.widget-view+json": {
       "model_id": "cb712cfd1d3b4c8d989771d535dfd451",
       "version_major": 2,
       "version_minor": 0
      },
      "text/plain": [
       "Optimization Progress:   0%|          | 0/640 [00:00<?, ?pipeline/s]"
      ]
     },
     "metadata": {},
     "output_type": "display_data"
    },
    {
     "name": "stdout",
     "output_type": "stream",
     "text": [
      "\n",
      "Generation 1 - Current best internal CV score: -16.829815824326385\n",
      "\n",
      "Generation 2 - Current best internal CV score: -16.829815824326385\n",
      "\n",
      "Generation 3 - Current best internal CV score: -16.829815824326385\n",
      "\n",
      "Generation 4 - Current best internal CV score: -16.590944551291997\n",
      "\n",
      "Generation 5 - Current best internal CV score: -16.515383188094845\n",
      "\n",
      "Generation 6 - Current best internal CV score: -14.327057671463871\n",
      "\n",
      "Generation 7 - Current best internal CV score: -14.327057671463871\n",
      "\n",
      "Generation 8 - Current best internal CV score: -14.312123645734024\n",
      "\n",
      "Generation 9 - Current best internal CV score: -14.180229939070177\n",
      "\n",
      "Generation 10 - Current best internal CV score: -12.96994352732948\n",
      "\n",
      "Generation 11 - Current best internal CV score: -12.94407845781075\n",
      "\n",
      "Generation 12 - Current best internal CV score: -12.94407845781075\n",
      "\n",
      "Generation 13 - Current best internal CV score: -12.94407845781075\n",
      "\n",
      "Generation 14 - Current best internal CV score: -12.83046133865641\n",
      "\n",
      "Generation 15 - Current best internal CV score: -12.69853996945783\n",
      "\n",
      "Best pipeline: ExtraTreesRegressor(SelectPercentile(input_matrix, percentile=49), bootstrap=False, max_features=0.7500000000000001, min_samples_leaf=1, min_samples_split=2, n_estimators=100)\n",
      "**************************************************\n",
      "Processing MMM\n"
     ]
    },
    {
     "name": "stderr",
     "output_type": "stream",
     "text": [
      "Version 0.12.2 of tpot is outdated. Version 1.0.0 was released 4 days ago.\n"
     ]
    },
    {
     "data": {
      "application/vnd.jupyter.widget-view+json": {
       "model_id": "a1290369552e4a278d8418794db5907a",
       "version_major": 2,
       "version_minor": 0
      },
      "text/plain": [
       "Optimization Progress:   0%|          | 0/640 [00:00<?, ?pipeline/s]"
      ]
     },
     "metadata": {},
     "output_type": "display_data"
    },
    {
     "name": "stdout",
     "output_type": "stream",
     "text": [
      "\n",
      "Generation 1 - Current best internal CV score: -29.43627719865694\n",
      "\n",
      "Generation 2 - Current best internal CV score: -29.43627719865694\n",
      "\n",
      "Generation 3 - Current best internal CV score: -29.43627719865694\n",
      "\n",
      "Generation 4 - Current best internal CV score: -29.43627719865694\n",
      "\n",
      "Generation 5 - Current best internal CV score: -27.458069485113874\n",
      "\n",
      "Generation 6 - Current best internal CV score: -27.458069485113874\n",
      "\n",
      "Generation 7 - Current best internal CV score: -26.15159654593616\n",
      "\n",
      "Generation 8 - Current best internal CV score: -23.234231312809335\n",
      "\n",
      "Generation 9 - Current best internal CV score: -23.16074742268434\n",
      "\n",
      "Generation 10 - Current best internal CV score: -23.16074742268434\n",
      "\n",
      "Generation 11 - Current best internal CV score: -23.16074742268434\n",
      "\n",
      "Generation 12 - Current best internal CV score: -23.043481797400226\n",
      "\n",
      "Generation 13 - Current best internal CV score: -23.043481797400226\n",
      "\n",
      "Generation 14 - Current best internal CV score: -22.737332494968875\n",
      "\n",
      "Generation 15 - Current best internal CV score: -22.737332494968875\n",
      "\n",
      "Best pipeline: ExtraTreesRegressor(SelectFwe(input_matrix, alpha=0.021), bootstrap=False, max_features=1.0, min_samples_leaf=1, min_samples_split=2, n_estimators=100)\n",
      "**************************************************\n",
      "Processing SHW\n"
     ]
    },
    {
     "name": "stderr",
     "output_type": "stream",
     "text": [
      "Version 0.12.2 of tpot is outdated. Version 1.0.0 was released 4 days ago.\n"
     ]
    },
    {
     "data": {
      "application/vnd.jupyter.widget-view+json": {
       "model_id": "c098a6aefb854d18b1e8e04a5cb57a8e",
       "version_major": 2,
       "version_minor": 0
      },
      "text/plain": [
       "Optimization Progress:   0%|          | 0/640 [00:00<?, ?pipeline/s]"
      ]
     },
     "metadata": {},
     "output_type": "display_data"
    },
    {
     "name": "stdout",
     "output_type": "stream",
     "text": [
      "\n",
      "Generation 1 - Current best internal CV score: -150.69955735688936\n",
      "\n",
      "Generation 2 - Current best internal CV score: -150.69955735688936\n",
      "\n",
      "Generation 3 - Current best internal CV score: -150.69955735688936\n",
      "\n",
      "Generation 4 - Current best internal CV score: -150.69955735688936\n",
      "\n",
      "Generation 5 - Current best internal CV score: -143.90809430247137\n",
      "\n",
      "Generation 6 - Current best internal CV score: -143.8860962681959\n",
      "\n",
      "Generation 7 - Current best internal CV score: -122.04027957838905\n",
      "\n",
      "Generation 8 - Current best internal CV score: -122.04027957838905\n",
      "\n",
      "Generation 9 - Current best internal CV score: -121.76432452507723\n",
      "\n",
      "Generation 10 - Current best internal CV score: -121.76432452507723\n",
      "\n",
      "Generation 11 - Current best internal CV score: -121.76432452507723\n",
      "\n",
      "Generation 12 - Current best internal CV score: -121.76432452507723\n",
      "\n",
      "Generation 13 - Current best internal CV score: -121.76432452507723\n",
      "\n",
      "Generation 14 - Current best internal CV score: -116.90573289624781\n",
      "\n",
      "Generation 15 - Current best internal CV score: -116.31703329115805\n",
      "\n",
      "Best pipeline: ExtraTreesRegressor(MinMaxScaler(PolynomialFeatures(SelectFwe(StandardScaler(input_matrix), alpha=0.019), degree=2, include_bias=False, interaction_only=False)), bootstrap=False, max_features=0.5, min_samples_leaf=2, min_samples_split=4, n_estimators=100)\n",
      "**************************************************\n",
      "Processing BA\n"
     ]
    },
    {
     "name": "stderr",
     "output_type": "stream",
     "text": [
      "Version 0.12.2 of tpot is outdated. Version 1.0.0 was released 4 days ago.\n"
     ]
    },
    {
     "data": {
      "application/vnd.jupyter.widget-view+json": {
       "model_id": "f6795acb7ba94f71a02c7baf401e0f26",
       "version_major": 2,
       "version_minor": 0
      },
      "text/plain": [
       "Optimization Progress:   0%|          | 0/640 [00:00<?, ?pipeline/s]"
      ]
     },
     "metadata": {},
     "output_type": "display_data"
    },
    {
     "name": "stdout",
     "output_type": "stream",
     "text": [
      "\n",
      "Generation 1 - Current best internal CV score: -203.2895982398294\n",
      "\n",
      "Generation 2 - Current best internal CV score: -203.2895982398294\n",
      "\n",
      "Generation 3 - Current best internal CV score: -194.8643772649801\n",
      "\n",
      "Generation 4 - Current best internal CV score: -194.8643772649801\n",
      "\n",
      "Generation 5 - Current best internal CV score: -194.8643772649801\n",
      "\n",
      "Generation 6 - Current best internal CV score: -194.8643772649801\n",
      "\n",
      "Generation 7 - Current best internal CV score: -175.02125489784834\n",
      "\n",
      "Generation 8 - Current best internal CV score: -175.02125489784834\n",
      "\n",
      "Generation 9 - Current best internal CV score: -169.6702133476859\n",
      "\n",
      "Generation 10 - Current best internal CV score: -166.78465642118604\n",
      "\n",
      "Generation 11 - Current best internal CV score: -163.54481646642483\n",
      "\n",
      "Generation 12 - Current best internal CV score: -160.19444095706203\n",
      "\n",
      "Generation 13 - Current best internal CV score: -160.19444095706203\n",
      "\n",
      "Generation 14 - Current best internal CV score: -150.52959299663425\n",
      "\n",
      "Generation 15 - Current best internal CV score: -150.52959299663425\n",
      "\n",
      "Best pipeline: ExtraTreesRegressor(SelectFwe(CombineDFs(input_matrix, ExtraTreesRegressor(input_matrix, bootstrap=False, max_features=0.25, min_samples_leaf=10, min_samples_split=13, n_estimators=100)), alpha=0.049), bootstrap=False, max_features=0.7500000000000001, min_samples_leaf=1, min_samples_split=2, n_estimators=100)\n",
      "**************************************************\n",
      "Processing PG\n"
     ]
    },
    {
     "name": "stderr",
     "output_type": "stream",
     "text": [
      "Version 0.12.2 of tpot is outdated. Version 1.0.0 was released 4 days ago.\n"
     ]
    },
    {
     "data": {
      "application/vnd.jupyter.widget-view+json": {
       "model_id": "22d50e4f3d334285b9a34056432c45c0",
       "version_major": 2,
       "version_minor": 0
      },
      "text/plain": [
       "Optimization Progress:   0%|          | 0/640 [00:00<?, ?pipeline/s]"
      ]
     },
     "metadata": {},
     "output_type": "display_data"
    },
    {
     "name": "stdout",
     "output_type": "stream",
     "text": [
      "\n",
      "Generation 1 - Current best internal CV score: -4.246910923184357\n",
      "\n",
      "Generation 2 - Current best internal CV score: -4.246910923184357\n",
      "\n",
      "Generation 3 - Current best internal CV score: -4.246910923184357\n",
      "\n",
      "Generation 4 - Current best internal CV score: -4.19995167424349\n",
      "\n",
      "Generation 5 - Current best internal CV score: -3.882210583638641\n",
      "\n",
      "Generation 6 - Current best internal CV score: -3.882210583638641\n",
      "\n",
      "Generation 7 - Current best internal CV score: -3.3973520160584885\n",
      "\n",
      "Generation 8 - Current best internal CV score: -3.3973520160584885\n",
      "\n",
      "Generation 9 - Current best internal CV score: -3.3973520160584885\n",
      "\n",
      "Generation 10 - Current best internal CV score: -3.3973520160584885\n",
      "\n",
      "Generation 11 - Current best internal CV score: -3.3973520160584885\n",
      "\n",
      "Generation 12 - Current best internal CV score: -3.1992038716715996\n",
      "\n",
      "Generation 13 - Current best internal CV score: -3.1992038716715996\n",
      "\n",
      "Generation 14 - Current best internal CV score: -3.166748528195389\n",
      "\n",
      "Generation 15 - Current best internal CV score: -3.163589412414916\n",
      "\n",
      "Best pipeline: ExtraTreesRegressor(RobustScaler(SelectFwe(CombineDFs(input_matrix, input_matrix), alpha=0.01)), bootstrap=False, max_features=0.6000000000000001, min_samples_leaf=1, min_samples_split=2, n_estimators=100)\n",
      "**************************************************\n",
      "Processing KO\n"
     ]
    },
    {
     "name": "stderr",
     "output_type": "stream",
     "text": [
      "Version 0.12.2 of tpot is outdated. Version 1.0.0 was released 4 days ago.\n"
     ]
    },
    {
     "data": {
      "application/vnd.jupyter.widget-view+json": {
       "model_id": "fdbcfbcc2d1e4ca781920366a5c2a893",
       "version_major": 2,
       "version_minor": 0
      },
      "text/plain": [
       "Optimization Progress:   0%|          | 0/640 [00:00<?, ?pipeline/s]"
      ]
     },
     "metadata": {},
     "output_type": "display_data"
    },
    {
     "name": "stdout",
     "output_type": "stream",
     "text": [
      "\n",
      "Generation 1 - Current best internal CV score: -0.9060368098435297\n",
      "\n",
      "Generation 2 - Current best internal CV score: -0.9060368098435297\n",
      "\n",
      "Generation 3 - Current best internal CV score: -0.7194753891465543\n",
      "\n",
      "Generation 4 - Current best internal CV score: -0.7194753891465543\n",
      "\n",
      "Generation 5 - Current best internal CV score: -0.7053985770484492\n",
      "\n",
      "Generation 6 - Current best internal CV score: -0.6982529039009665\n",
      "\n",
      "Generation 7 - Current best internal CV score: -0.6982529039009665\n",
      "\n",
      "Generation 8 - Current best internal CV score: -0.6982529039009665\n",
      "\n",
      "Generation 9 - Current best internal CV score: -0.697896472474963\n",
      "\n",
      "Generation 10 - Current best internal CV score: -0.697896472474963\n",
      "\n",
      "Generation 11 - Current best internal CV score: -0.6782830227312356\n",
      "\n",
      "Generation 12 - Current best internal CV score: -0.6782830227312356\n",
      "\n",
      "Generation 13 - Current best internal CV score: -0.6782830227312356\n",
      "\n",
      "Generation 14 - Current best internal CV score: -0.6782830227312356\n",
      "\n",
      "Generation 15 - Current best internal CV score: -0.6782830227312356\n",
      "\n",
      "Best pipeline: ExtraTreesRegressor(CombineDFs(CombineDFs(input_matrix, MaxAbsScaler(input_matrix)), input_matrix), bootstrap=False, max_features=0.6500000000000001, min_samples_leaf=1, min_samples_split=2, n_estimators=100)\n",
      "**************************************************\n",
      "Processing UNH\n"
     ]
    },
    {
     "name": "stderr",
     "output_type": "stream",
     "text": [
      "Version 0.12.2 of tpot is outdated. Version 1.0.0 was released 4 days ago.\n"
     ]
    },
    {
     "data": {
      "application/vnd.jupyter.widget-view+json": {
       "model_id": "354ce88df21c4dd88b8a45c8c9f808cc",
       "version_major": 2,
       "version_minor": 0
      },
      "text/plain": [
       "Optimization Progress:   0%|          | 0/640 [00:00<?, ?pipeline/s]"
      ]
     },
     "metadata": {},
     "output_type": "display_data"
    },
    {
     "name": "stdout",
     "output_type": "stream",
     "text": [
      "\n",
      "Generation 1 - Current best internal CV score: -31.53843387787551\n",
      "\n",
      "Generation 2 - Current best internal CV score: -31.53843387787551\n",
      "\n",
      "Generation 3 - Current best internal CV score: -31.53843387787551\n",
      "\n",
      "Generation 4 - Current best internal CV score: -31.53843387787551\n",
      "\n",
      "Generation 5 - Current best internal CV score: -31.53843387787551\n",
      "\n",
      "Generation 6 - Current best internal CV score: -29.01363393957805\n",
      "\n",
      "Generation 7 - Current best internal CV score: -28.319263263031793\n",
      "\n",
      "Generation 8 - Current best internal CV score: -26.515266317840553\n",
      "\n",
      "Generation 9 - Current best internal CV score: -26.515266317840553\n",
      "\n",
      "Generation 10 - Current best internal CV score: -26.515266317840553\n",
      "\n",
      "Generation 11 - Current best internal CV score: -26.515266317840553\n",
      "\n",
      "Generation 12 - Current best internal CV score: -26.515266317840553\n",
      "\n",
      "Generation 13 - Current best internal CV score: -25.417671174854377\n",
      "\n",
      "Generation 14 - Current best internal CV score: -25.417671174854377\n",
      "\n",
      "Generation 15 - Current best internal CV score: -25.417671174854377\n",
      "\n",
      "Best pipeline: ExtraTreesRegressor(SelectPercentile(input_matrix, percentile=52), bootstrap=False, max_features=0.8500000000000001, min_samples_leaf=1, min_samples_split=2, n_estimators=100)\n",
      "**************************************************\n",
      "Processing MCD\n"
     ]
    },
    {
     "name": "stderr",
     "output_type": "stream",
     "text": [
      "Version 0.12.2 of tpot is outdated. Version 1.0.0 was released 4 days ago.\n"
     ]
    },
    {
     "data": {
      "application/vnd.jupyter.widget-view+json": {
       "model_id": "8ec75805947a4f1797f5432039fe9a10",
       "version_major": 2,
       "version_minor": 0
      },
      "text/plain": [
       "Optimization Progress:   0%|          | 0/640 [00:00<?, ?pipeline/s]"
      ]
     },
     "metadata": {},
     "output_type": "display_data"
    },
    {
     "name": "stdout",
     "output_type": "stream",
     "text": [
      "\n",
      "Generation 1 - Current best internal CV score: -18.637828515903614\n",
      "\n",
      "Generation 2 - Current best internal CV score: -18.637828515903614\n",
      "\n",
      "Generation 3 - Current best internal CV score: -18.60999413514123\n",
      "\n",
      "Generation 4 - Current best internal CV score: -15.891796863097193\n",
      "\n",
      "Generation 5 - Current best internal CV score: -15.891796863097193\n",
      "\n",
      "Generation 6 - Current best internal CV score: -15.891796863097193\n",
      "\n",
      "Generation 7 - Current best internal CV score: -15.891796863097193\n",
      "\n",
      "Generation 8 - Current best internal CV score: -15.718089685785241\n",
      "\n",
      "Generation 9 - Current best internal CV score: -15.249447327841372\n",
      "\n",
      "Generation 10 - Current best internal CV score: -15.249447327841372\n",
      "\n",
      "Generation 11 - Current best internal CV score: -15.249447327841372\n",
      "\n",
      "Generation 12 - Current best internal CV score: -15.249447327841372\n",
      "\n",
      "Generation 13 - Current best internal CV score: -14.945131788984138\n",
      "\n",
      "Generation 14 - Current best internal CV score: -14.28134269653533\n",
      "\n",
      "Generation 15 - Current best internal CV score: -14.28134269653533\n",
      "\n",
      "Best pipeline: ExtraTreesRegressor(SelectPercentile(input_matrix, percentile=63), bootstrap=False, max_features=0.7500000000000001, min_samples_leaf=1, min_samples_split=2, n_estimators=100)\n",
      "**************************************************\n",
      "Processing TRV\n"
     ]
    },
    {
     "name": "stderr",
     "output_type": "stream",
     "text": [
      "Version 0.12.2 of tpot is outdated. Version 1.0.0 was released 4 days ago.\n"
     ]
    },
    {
     "data": {
      "application/vnd.jupyter.widget-view+json": {
       "model_id": "d160b931fdce4804b9b952e5278b70e1",
       "version_major": 2,
       "version_minor": 0
      },
      "text/plain": [
       "Optimization Progress:   0%|          | 0/640 [00:00<?, ?pipeline/s]"
      ]
     },
     "metadata": {},
     "output_type": "display_data"
    },
    {
     "name": "stdout",
     "output_type": "stream",
     "text": [
      "\n",
      "Generation 1 - Current best internal CV score: -12.783367318274106\n",
      "\n",
      "Generation 2 - Current best internal CV score: -12.135712770921575\n",
      "\n",
      "Generation 3 - Current best internal CV score: -12.135712770921575\n",
      "\n",
      "Generation 4 - Current best internal CV score: -11.590547591493968\n",
      "\n",
      "Generation 5 - Current best internal CV score: -11.222485455601976\n",
      "\n",
      "Generation 6 - Current best internal CV score: -11.059380006922789\n",
      "\n",
      "Generation 7 - Current best internal CV score: -10.528218517668545\n",
      "\n",
      "Generation 8 - Current best internal CV score: -10.528218517668545\n",
      "\n",
      "Generation 9 - Current best internal CV score: -10.528218517668545\n",
      "\n",
      "Generation 10 - Current best internal CV score: -10.528218517668545\n",
      "\n",
      "Generation 11 - Current best internal CV score: -10.406112280843358\n",
      "\n",
      "Generation 12 - Current best internal CV score: -9.912917488962785\n",
      "\n",
      "Generation 13 - Current best internal CV score: -9.54527950291299\n",
      "\n",
      "Generation 14 - Current best internal CV score: -9.54527950291299\n",
      "\n",
      "Generation 15 - Current best internal CV score: -9.54527950291299\n",
      "\n",
      "Best pipeline: ExtraTreesRegressor(SelectPercentile(input_matrix, percentile=61), bootstrap=False, max_features=1.0, min_samples_leaf=1, min_samples_split=2, n_estimators=100)\n",
      "**************************************************\n",
      "Processing WBA\n"
     ]
    },
    {
     "name": "stderr",
     "output_type": "stream",
     "text": [
      "Version 0.12.2 of tpot is outdated. Version 1.0.0 was released 4 days ago.\n"
     ]
    },
    {
     "data": {
      "application/vnd.jupyter.widget-view+json": {
       "model_id": "343478b79c9a433a94f84b7c32b55bbd",
       "version_major": 2,
       "version_minor": 0
      },
      "text/plain": [
       "Optimization Progress:   0%|          | 0/640 [00:00<?, ?pipeline/s]"
      ]
     },
     "metadata": {},
     "output_type": "display_data"
    },
    {
     "name": "stdout",
     "output_type": "stream",
     "text": [
      "\n",
      "Generation 1 - Current best internal CV score: -6.31553021348535\n",
      "\n",
      "Generation 2 - Current best internal CV score: -6.31553021348535\n",
      "\n",
      "Generation 3 - Current best internal CV score: -6.31553021348535\n",
      "\n",
      "Generation 4 - Current best internal CV score: -6.032778497344835\n",
      "\n",
      "Generation 5 - Current best internal CV score: -6.031929841772266\n",
      "\n",
      "Generation 6 - Current best internal CV score: -6.031929841772266\n",
      "\n",
      "Generation 7 - Current best internal CV score: -5.497253999485675\n",
      "\n",
      "Generation 8 - Current best internal CV score: -5.497253999485675\n",
      "\n",
      "Generation 9 - Current best internal CV score: -5.497253999485675\n",
      "\n",
      "Generation 10 - Current best internal CV score: -5.497253999485675\n",
      "\n",
      "Generation 11 - Current best internal CV score: -5.43774859714017\n",
      "\n",
      "Generation 12 - Current best internal CV score: -5.094592885907064\n",
      "\n",
      "Generation 13 - Current best internal CV score: -5.094592885907064\n",
      "\n",
      "Generation 14 - Current best internal CV score: -5.094592885907064\n",
      "\n",
      "Generation 15 - Current best internal CV score: -5.094592885907064\n",
      "\n",
      "Best pipeline: ExtraTreesRegressor(SelectFwe(CombineDFs(input_matrix, input_matrix), alpha=0.018000000000000002), bootstrap=False, max_features=0.7500000000000001, min_samples_leaf=1, min_samples_split=2, n_estimators=100)\n",
      "**************************************************\n",
      "Processing AMZN\n"
     ]
    },
    {
     "name": "stderr",
     "output_type": "stream",
     "text": [
      "Version 0.12.2 of tpot is outdated. Version 1.0.0 was released 4 days ago.\n"
     ]
    },
    {
     "data": {
      "application/vnd.jupyter.widget-view+json": {
       "model_id": "d8dc73c0245e4eb4b38b08382a9ab270",
       "version_major": 2,
       "version_minor": 0
      },
      "text/plain": [
       "Optimization Progress:   0%|          | 0/640 [00:00<?, ?pipeline/s]"
      ]
     },
     "metadata": {},
     "output_type": "display_data"
    },
    {
     "name": "stdout",
     "output_type": "stream",
     "text": [
      "\n",
      "Generation 1 - Current best internal CV score: -2514.0981097917766\n",
      "\n",
      "Generation 2 - Current best internal CV score: -2514.0981097917766\n",
      "\n",
      "Generation 3 - Current best internal CV score: -2004.3619606426005\n",
      "\n",
      "Generation 4 - Current best internal CV score: -1799.7445607690584\n",
      "\n",
      "Generation 5 - Current best internal CV score: -1799.7445607690584\n",
      "\n",
      "Generation 6 - Current best internal CV score: -1768.222468714528\n",
      "\n",
      "Generation 7 - Current best internal CV score: -1768.222468714528\n",
      "\n",
      "Generation 8 - Current best internal CV score: -1768.222468714528\n",
      "\n",
      "Generation 9 - Current best internal CV score: -1768.222468714528\n",
      "\n",
      "Generation 10 - Current best internal CV score: -1768.222468714528\n",
      "\n",
      "Generation 11 - Current best internal CV score: -1766.5333437330742\n",
      "\n",
      "Generation 12 - Current best internal CV score: -1669.766237211577\n",
      "\n",
      "Generation 13 - Current best internal CV score: -1669.766237211577\n",
      "\n",
      "Generation 14 - Current best internal CV score: -1669.766237211577\n",
      "\n",
      "Generation 15 - Current best internal CV score: -1669.766237211577\n",
      "\n",
      "Best pipeline: ExtraTreesRegressor(SelectPercentile(input_matrix, percentile=78), bootstrap=False, max_features=0.7500000000000001, min_samples_leaf=1, min_samples_split=2, n_estimators=100)\n",
      "**************************************************\n",
      "Processing IBM\n"
     ]
    },
    {
     "name": "stderr",
     "output_type": "stream",
     "text": [
      "Version 0.12.2 of tpot is outdated. Version 1.0.0 was released 4 days ago.\n"
     ]
    },
    {
     "data": {
      "application/vnd.jupyter.widget-view+json": {
       "model_id": "94d80d4a5f694e55985ec668db617d15",
       "version_major": 2,
       "version_minor": 0
      },
      "text/plain": [
       "Optimization Progress:   0%|          | 0/640 [00:00<?, ?pipeline/s]"
      ]
     },
     "metadata": {},
     "output_type": "display_data"
    },
    {
     "name": "stdout",
     "output_type": "stream",
     "text": [
      "\n",
      "Generation 1 - Current best internal CV score: -20.99994266918071\n",
      "\n",
      "Generation 2 - Current best internal CV score: -20.99994266918071\n",
      "\n",
      "Generation 3 - Current best internal CV score: -20.99994266918071\n",
      "\n",
      "Generation 4 - Current best internal CV score: -19.647526132690356\n",
      "\n",
      "Generation 5 - Current best internal CV score: -19.647526132690356\n",
      "\n",
      "Generation 6 - Current best internal CV score: -17.96131407906511\n",
      "\n",
      "Generation 7 - Current best internal CV score: -17.96131407906511\n",
      "\n",
      "Generation 8 - Current best internal CV score: -15.049269717074917\n",
      "\n",
      "Generation 9 - Current best internal CV score: -14.973620876043896\n",
      "\n",
      "Generation 10 - Current best internal CV score: -14.973620876043896\n",
      "\n",
      "Generation 11 - Current best internal CV score: -14.973620876043896\n",
      "\n",
      "Generation 12 - Current best internal CV score: -14.612032009998211\n",
      "\n",
      "Generation 13 - Current best internal CV score: -14.612032009998211\n",
      "\n",
      "Generation 14 - Current best internal CV score: -14.612032009998211\n",
      "\n",
      "Generation 15 - Current best internal CV score: -14.612032009998211\n",
      "\n",
      "Best pipeline: ExtraTreesRegressor(SelectFwe(CombineDFs(input_matrix, input_matrix), alpha=0.036000000000000004), bootstrap=False, max_features=0.7500000000000001, min_samples_leaf=1, min_samples_split=2, n_estimators=100)\n",
      "**************************************************\n",
      "Processing INTC\n"
     ]
    },
    {
     "name": "stderr",
     "output_type": "stream",
     "text": [
      "Version 0.12.2 of tpot is outdated. Version 1.0.0 was released 4 days ago.\n"
     ]
    },
    {
     "data": {
      "application/vnd.jupyter.widget-view+json": {
       "model_id": "ee111add48464a55a8bae6073d19b0e8",
       "version_major": 2,
       "version_minor": 0
      },
      "text/plain": [
       "Optimization Progress:   0%|          | 0/640 [00:00<?, ?pipeline/s]"
      ]
     },
     "metadata": {},
     "output_type": "display_data"
    },
    {
     "name": "stdout",
     "output_type": "stream",
     "text": [
      "\n",
      "Generation 1 - Current best internal CV score: -3.3206294962816356\n",
      "\n",
      "Generation 2 - Current best internal CV score: -3.2564405279500193\n",
      "\n",
      "Generation 3 - Current best internal CV score: -3.2506311768282528\n",
      "\n",
      "Generation 4 - Current best internal CV score: -3.114723243221436\n",
      "\n",
      "Generation 5 - Current best internal CV score: -3.07263191284744\n",
      "\n",
      "Generation 6 - Current best internal CV score: -2.9460274046328614\n",
      "\n",
      "Generation 7 - Current best internal CV score: -2.9435374403065664\n",
      "\n",
      "Generation 8 - Current best internal CV score: -2.6478487146343115\n",
      "\n",
      "Generation 9 - Current best internal CV score: -2.6478487146343115\n",
      "\n",
      "Generation 10 - Current best internal CV score: -2.6478487146343115\n",
      "\n",
      "Generation 11 - Current best internal CV score: -2.6478487146343115\n",
      "\n",
      "Generation 12 - Current best internal CV score: -2.6478487146343115\n",
      "\n",
      "Generation 13 - Current best internal CV score: -2.6478487146343115\n",
      "\n",
      "Generation 14 - Current best internal CV score: -2.6478487146343115\n",
      "\n",
      "Generation 15 - Current best internal CV score: -2.6409110297100282\n",
      "\n",
      "Best pipeline: ExtraTreesRegressor(SelectFwe(input_matrix, alpha=0.001), bootstrap=False, max_features=0.7500000000000001, min_samples_leaf=1, min_samples_split=2, n_estimators=100)\n",
      "**************************************************\n",
      "Processing DOW\n"
     ]
    },
    {
     "name": "stderr",
     "output_type": "stream",
     "text": [
      "Version 0.12.2 of tpot is outdated. Version 1.0.0 was released 4 days ago.\n"
     ]
    },
    {
     "data": {
      "application/vnd.jupyter.widget-view+json": {
       "model_id": "5a267332ba22497dacadebb943bc9431",
       "version_major": 2,
       "version_minor": 0
      },
      "text/plain": [
       "Optimization Progress:   0%|          | 0/640 [00:00<?, ?pipeline/s]"
      ]
     },
     "metadata": {},
     "output_type": "display_data"
    },
    {
     "name": "stdout",
     "output_type": "stream",
     "text": [
      "\n",
      "Generation 1 - Current best internal CV score: -8.545765150317214\n",
      "\n",
      "Generation 2 - Current best internal CV score: -7.814819128025308\n",
      "\n",
      "Generation 3 - Current best internal CV score: -7.814819128025308\n",
      "\n",
      "Generation 4 - Current best internal CV score: -7.21822821577089\n",
      "\n",
      "Generation 5 - Current best internal CV score: -6.7711947770629255\n",
      "\n",
      "Generation 6 - Current best internal CV score: -6.668888419799629\n",
      "\n",
      "Generation 7 - Current best internal CV score: -6.668888419799629\n",
      "\n",
      "Generation 8 - Current best internal CV score: -6.668888419799629\n",
      "\n",
      "Generation 9 - Current best internal CV score: -6.2380882469414765\n",
      "\n",
      "Generation 10 - Current best internal CV score: -6.2380882469414765\n",
      "\n",
      "Generation 11 - Current best internal CV score: -6.2380882469414765\n",
      "\n",
      "Generation 12 - Current best internal CV score: -5.5504728027748165\n",
      "\n",
      "Generation 13 - Current best internal CV score: -5.5504728027748165\n",
      "\n",
      "Generation 14 - Current best internal CV score: -5.5504728027748165\n",
      "\n",
      "Generation 15 - Current best internal CV score: -5.5504728027748165\n",
      "\n",
      "Best pipeline: ExtraTreesRegressor(VarianceThreshold(input_matrix, threshold=0.2), bootstrap=False, max_features=0.7500000000000001, min_samples_leaf=1, min_samples_split=2, n_estimators=100)\n",
      "**************************************************\n"
     ]
    }
   ],
   "source": [
    "models_dict_12 = {}\n",
    "for symbol in components:\n",
    "    print(f'Processing {symbol}')\n",
    "    data = get_stock_data(df, symbol, '2020-08-30')\n",
    "    data = add_technical_indicators(data)\n",
    "    X, y = construct_training_data(data, h=12)\n",
    "\n",
    "    X_train, X_test, y_train, y_test = train_test_split(X, y, test_size=0.3, random_state=42)\n",
    "    X_train = X_train.drop(columns=[\"TradingDate\"])\n",
    "\n",
    "    X_train = X_train.values\n",
    "    y_train = y_train.values\n",
    "\n",
    "    X_test = X_test.drop(columns=[\"TradingDate\"])\n",
    "    # Initialize TPOT Regressor\n",
    "    tpot_ = TPOTRegressor(generations=15, population_size=40, verbosity=2, random_state=42, n_jobs=-1, early_stop=5)\n",
    "\n",
    "    # Fit the TPOT Regressor\n",
    "    tpot_.fit(X_train, y_train)\n",
    "\n",
    "    # Store the model in a dictionary (could be for multiple problems)\n",
    "    models_dict_12[symbol] = tpot_.fitted_pipeline_\n",
    "    # print(f'Exporting model for {symbol}')\n",
    "    print('*'*50)"
   ]
  },
  {
   "cell_type": "code",
   "execution_count": 9,
   "metadata": {},
   "outputs": [],
   "source": [
    "# Save the model_dict\n",
    "with open('model_dict.joblib_12', 'wb') as f:\n",
    "    joblib.dump(models_dict_12, f)"
   ]
  },
  {
   "cell_type": "code",
   "execution_count": 18,
   "metadata": {},
   "outputs": [
    {
     "name": "stdout",
     "output_type": "stream",
     "text": [
      "(1658, 35) (1658,)\n"
     ]
    },
    {
     "name": "stderr",
     "output_type": "stream",
     "text": [
      "Version 0.12.2 of tpot is outdated. Version 1.0.0 was released 4 days ago.\n"
     ]
    },
    {
     "data": {
      "application/vnd.jupyter.widget-view+json": {
       "model_id": "4330995f5946401b93edc3f8b88d23d9",
       "version_major": 2,
       "version_minor": 0
      },
      "text/plain": [
       "Optimization Progress:   0%|          | 0/1050 [00:00<?, ?pipeline/s]"
      ]
     },
     "metadata": {},
     "output_type": "display_data"
    },
    {
     "name": "stdout",
     "output_type": "stream",
     "text": [
      "\n",
      "Generation 1 - Current best internal CV score: -363518.33759396354\n",
      "\n",
      "Generation 2 - Current best internal CV score: -361718.48602301336\n",
      "\n",
      "Generation 3 - Current best internal CV score: -360939.08206406917\n",
      "\n",
      "Generation 4 - Current best internal CV score: -360818.5608347687\n",
      "\n",
      "Generation 5 - Current best internal CV score: -360818.5608347687\n",
      "\n",
      "Generation 6 - Current best internal CV score: -360818.5608347687\n",
      "\n",
      "Generation 7 - Current best internal CV score: -360818.5608347687\n",
      "\n",
      "Generation 8 - Current best internal CV score: -360818.5608347687\n",
      "\n",
      "Generation 9 - Current best internal CV score: -360818.5608347687\n",
      "\n",
      "Generation 10 - Current best internal CV score: -360818.5608347687\n",
      "\n",
      "Generation 11 - Current best internal CV score: -360818.56082503527\n",
      "\n",
      "Generation 12 - Current best internal CV score: -356749.87506519293\n",
      "\n",
      "Generation 13 - Current best internal CV score: -356749.87506519293\n",
      "\n",
      "Generation 14 - Current best internal CV score: -356749.87506519293\n",
      "\n",
      "Generation 15 - Current best internal CV score: -356735.74312696955\n",
      "\n",
      "Generation 16 - Current best internal CV score: -356735.74312696955\n",
      "\n",
      "Generation 17 - Current best internal CV score: -356735.74312696955\n",
      "\n",
      "Generation 18 - Current best internal CV score: -356598.4375944518\n",
      "\n",
      "Generation 19 - Current best internal CV score: -356598.4375944518\n",
      "\n",
      "Generation 20 - Current best internal CV score: -356598.4375944518\n",
      "\n",
      "Best pipeline: ElasticNetCV(GradientBoostingRegressor(GradientBoostingRegressor(CombineDFs(input_matrix, StandardScaler(input_matrix)), alpha=0.95, learning_rate=0.1, loss=quantile, max_depth=10, max_features=0.05, min_samples_leaf=16, min_samples_split=9, n_estimators=100, subsample=0.2), alpha=0.9, learning_rate=0.01, loss=quantile, max_depth=10, max_features=0.7000000000000001, min_samples_leaf=9, min_samples_split=12, n_estimators=100, subsample=0.9000000000000001), l1_ratio=0.9500000000000001, tol=1e-05)\n"
     ]
    }
   ],
   "source": [
    "DJI = pd.read_csv('data/DJIA/DJIA.csv') # from 2014-01-02 to 2025-02-20\n",
    "DJI.rename(columns={'Indexcd':'Symbol', 'Opnidx': 'open', 'Highidx': 'high', 'Lowidx': 'low', 'Clsidx': 'close','Vol': 'volume', 'Trddt': 'TradingDate', 'Value': 'return'}, inplace=True)\n",
    "\n",
    "DJI[\"TradingDate\"] = pd.to_datetime(DJI[\"TradingDate\"])\n",
    "DJI.sort_values(by=\"TradingDate\",inplace=True)\n",
    "\n",
    "data = DJI[(DJI[\"TradingDate\"] <= \"2020-08-30\")]\n",
    "\n",
    "data = add_technical_indicators(data)\n",
    "X, y = construct_training_data(data)\n",
    "X_train, y_train = X.drop(columns=[\"TradingDate\"]).values, y.values\n",
    "\n",
    "print(X_train.shape, y_train.shape)\n",
    "\n",
    "tpot_ = TPOTRegressor(generations=20, population_size=50, verbosity=2, random_state=42, n_jobs=-1)\n",
    "tpot_.fit(X_train, y_train)\n",
    "\n",
    "models_dict_6[\"DJI\"] = tpot_.fitted_pipeline_"
   ]
  },
  {
   "cell_type": "code",
   "execution_count": 19,
   "metadata": {},
   "outputs": [
    {
     "name": "stderr",
     "output_type": "stream",
     "text": [
      "Version 0.12.2 of tpot is outdated. Version 1.0.0 was released 4 days ago.\n"
     ]
    },
    {
     "data": {
      "application/vnd.jupyter.widget-view+json": {
       "model_id": "18643cc89f4947aeb67efd8d16f09fa3",
       "version_major": 2,
       "version_minor": 0
      },
      "text/plain": [
       "Optimization Progress:   0%|          | 0/1050 [00:00<?, ?pipeline/s]"
      ]
     },
     "metadata": {},
     "output_type": "display_data"
    },
    {
     "name": "stdout",
     "output_type": "stream",
     "text": [
      "\n",
      "Generation 1 - Current best internal CV score: -737551.1064665222\n",
      "\n",
      "Generation 2 - Current best internal CV score: -725526.2386303778\n",
      "\n",
      "Generation 3 - Current best internal CV score: -725526.2386303778\n",
      "\n",
      "Generation 4 - Current best internal CV score: -724194.1591746692\n",
      "\n",
      "Generation 5 - Current best internal CV score: -724194.1591320242\n",
      "\n",
      "Generation 6 - Current best internal CV score: -724194.1591319825\n",
      "\n",
      "Generation 7 - Current best internal CV score: -724191.3271399911\n",
      "\n",
      "Generation 8 - Current best internal CV score: -724191.3271399911\n",
      "\n",
      "Generation 9 - Current best internal CV score: -724191.3271399911\n",
      "\n",
      "Generation 10 - Current best internal CV score: -724191.3271399911\n",
      "\n",
      "Generation 11 - Current best internal CV score: -724191.2988038177\n",
      "\n",
      "Generation 12 - Current best internal CV score: -724191.2988034335\n",
      "\n",
      "Generation 13 - Current best internal CV score: -723856.4120204169\n",
      "\n",
      "Generation 14 - Current best internal CV score: -723856.4120204169\n",
      "\n",
      "Generation 15 - Current best internal CV score: -723854.8191006182\n",
      "\n",
      "Generation 16 - Current best internal CV score: -720939.6892993958\n",
      "\n",
      "Generation 17 - Current best internal CV score: -720939.6892993958\n",
      "\n",
      "Generation 18 - Current best internal CV score: -720939.6892993958\n",
      "\n",
      "Generation 19 - Current best internal CV score: -720939.6892993958\n",
      "\n",
      "Generation 20 - Current best internal CV score: -720939.6892993958\n",
      "\n",
      "Best pipeline: ElasticNetCV(LinearSVR(LinearSVR(input_matrix, C=0.0001, dual=True, epsilon=0.1, loss=epsilon_insensitive, tol=0.01), C=0.1, dual=False, epsilon=0.0001, loss=squared_epsilon_insensitive, tol=0.01), l1_ratio=1.0, tol=1e-05)\n"
     ]
    }
   ],
   "source": [
    "X, y = construct_training_data(data, h=12)\n",
    "\n",
    "X_train, y_train = X.drop(columns=[\"TradingDate\"]).values, y.values\n",
    "\n",
    "tpot_ = TPOTRegressor(generations=20, population_size=50, verbosity=2, random_state=42, n_jobs=-1)\n",
    "tpot_.fit(X_train, y_train)\n",
    "\n",
    "models_dict_12[\"DJI\"] = tpot_.fitted_pipeline_"
   ]
  },
  {
   "cell_type": "code",
   "execution_count": 20,
   "metadata": {},
   "outputs": [],
   "source": [
    "# Save the model_dict\n",
    "with open('model/model_dict.joblib_12', 'wb') as f:\n",
    "    joblib.dump(models_dict_12, f)\n",
    "\n",
    "with open('model/model_dict.joblib_6', 'wb') as f:\n",
    "    joblib.dump(models_dict_6, f)"
   ]
  },
  {
   "cell_type": "code",
   "execution_count": 6,
   "metadata": {},
   "outputs": [],
   "source": [
    "models_dict_6 = joblib.load('model/model_dict.joblib_6')\n",
    "models_dict_12 = joblib.load('model/model_dict.joblib_12')"
   ]
  }
 ],
 "metadata": {
  "kernelspec": {
   "display_name": "base",
   "language": "python",
   "name": "python3"
  },
  "language_info": {
   "codemirror_mode": {
    "name": "ipython",
    "version": 3
   },
   "file_extension": ".py",
   "mimetype": "text/x-python",
   "name": "python",
   "nbconvert_exporter": "python",
   "pygments_lexer": "ipython3",
   "version": "3.12.7"
  }
 },
 "nbformat": 4,
 "nbformat_minor": 2
}
